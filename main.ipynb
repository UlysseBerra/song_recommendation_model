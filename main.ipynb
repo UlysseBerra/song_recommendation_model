{
 "cells": [
  {
   "cell_type": "markdown",
   "source": [
    "# Music Recommendation System Project\n",
    "\n",
    "**Still very much a WIP! It works, but the output is really not very nice!**\n",
    "\n",
    "In this project, I built a music recommendation system using machine learning techniques. The goal is to create a model that can recommend music based on similarity with another song the user inputs.\n",
    "\n",
    "We have a large dataset in CSV format containing information about music tracks. This dataset includes features such as artists, album name, danceability, energy, and genre, among others. I chose the features I wanted to use and also ended up settling on a KNN algorithm for this project."
   ],
   "metadata": {
    "collapsed": false
   },
   "id": "f4dae394aa512620"
  },
  {
   "cell_type": "code",
   "execution_count": 203,
   "outputs": [
    {
     "data": {
      "text/plain": "   Unnamed: 0                track_id                 artists  \\\n0           0  5SuOikwiRyPMVoIQDJUgSV             Gen Hoshino   \n1           1  4qPNDBW1i3p13qLCt0Ki3A            Ben Woodward   \n2           2  1iJBSr7s7jYXzM8EGcbK5b  Ingrid Michaelson;ZAYN   \n3           3  6lfxq3CG4xtTiEg7opyCyx            Kina Grannis   \n4           4  5vjLSffimiIP26QG5WcN2K        Chord Overstreet   \n\n                                          album_name  \\\n0                                             Comedy   \n1                                   Ghost (Acoustic)   \n2                                     To Begin Again   \n3  Crazy Rich Asians (Original Motion Picture Sou...   \n4                                            Hold On   \n\n                   track_name  popularity  duration_ms  explicit  \\\n0                      Comedy          73       230666     False   \n1            Ghost - Acoustic          55       149610     False   \n2              To Begin Again          57       210826     False   \n3  Can't Help Falling In Love          71       201933     False   \n4                     Hold On          82       198853     False   \n\n   danceability  energy  ...  loudness  mode  speechiness  acousticness  \\\n0         0.676  0.4610  ...    -6.746     0       0.1430        0.0322   \n1         0.420  0.1660  ...   -17.235     1       0.0763        0.9240   \n2         0.438  0.3590  ...    -9.734     1       0.0557        0.2100   \n3         0.266  0.0596  ...   -18.515     1       0.0363        0.9050   \n4         0.618  0.4430  ...    -9.681     1       0.0526        0.4690   \n\n   instrumentalness  liveness  valence    tempo  time_signature  track_genre  \n0          0.000001    0.3580    0.715   87.917               4     acoustic  \n1          0.000006    0.1010    0.267   77.489               4     acoustic  \n2          0.000000    0.1170    0.120   76.332               4     acoustic  \n3          0.000071    0.1320    0.143  181.740               3     acoustic  \n4          0.000000    0.0829    0.167  119.949               4     acoustic  \n\n[5 rows x 21 columns]",
      "text/html": "<div>\n<style scoped>\n    .dataframe tbody tr th:only-of-type {\n        vertical-align: middle;\n    }\n\n    .dataframe tbody tr th {\n        vertical-align: top;\n    }\n\n    .dataframe thead th {\n        text-align: right;\n    }\n</style>\n<table border=\"1\" class=\"dataframe\">\n  <thead>\n    <tr style=\"text-align: right;\">\n      <th></th>\n      <th>Unnamed: 0</th>\n      <th>track_id</th>\n      <th>artists</th>\n      <th>album_name</th>\n      <th>track_name</th>\n      <th>popularity</th>\n      <th>duration_ms</th>\n      <th>explicit</th>\n      <th>danceability</th>\n      <th>energy</th>\n      <th>...</th>\n      <th>loudness</th>\n      <th>mode</th>\n      <th>speechiness</th>\n      <th>acousticness</th>\n      <th>instrumentalness</th>\n      <th>liveness</th>\n      <th>valence</th>\n      <th>tempo</th>\n      <th>time_signature</th>\n      <th>track_genre</th>\n    </tr>\n  </thead>\n  <tbody>\n    <tr>\n      <th>0</th>\n      <td>0</td>\n      <td>5SuOikwiRyPMVoIQDJUgSV</td>\n      <td>Gen Hoshino</td>\n      <td>Comedy</td>\n      <td>Comedy</td>\n      <td>73</td>\n      <td>230666</td>\n      <td>False</td>\n      <td>0.676</td>\n      <td>0.4610</td>\n      <td>...</td>\n      <td>-6.746</td>\n      <td>0</td>\n      <td>0.1430</td>\n      <td>0.0322</td>\n      <td>0.000001</td>\n      <td>0.3580</td>\n      <td>0.715</td>\n      <td>87.917</td>\n      <td>4</td>\n      <td>acoustic</td>\n    </tr>\n    <tr>\n      <th>1</th>\n      <td>1</td>\n      <td>4qPNDBW1i3p13qLCt0Ki3A</td>\n      <td>Ben Woodward</td>\n      <td>Ghost (Acoustic)</td>\n      <td>Ghost - Acoustic</td>\n      <td>55</td>\n      <td>149610</td>\n      <td>False</td>\n      <td>0.420</td>\n      <td>0.1660</td>\n      <td>...</td>\n      <td>-17.235</td>\n      <td>1</td>\n      <td>0.0763</td>\n      <td>0.9240</td>\n      <td>0.000006</td>\n      <td>0.1010</td>\n      <td>0.267</td>\n      <td>77.489</td>\n      <td>4</td>\n      <td>acoustic</td>\n    </tr>\n    <tr>\n      <th>2</th>\n      <td>2</td>\n      <td>1iJBSr7s7jYXzM8EGcbK5b</td>\n      <td>Ingrid Michaelson;ZAYN</td>\n      <td>To Begin Again</td>\n      <td>To Begin Again</td>\n      <td>57</td>\n      <td>210826</td>\n      <td>False</td>\n      <td>0.438</td>\n      <td>0.3590</td>\n      <td>...</td>\n      <td>-9.734</td>\n      <td>1</td>\n      <td>0.0557</td>\n      <td>0.2100</td>\n      <td>0.000000</td>\n      <td>0.1170</td>\n      <td>0.120</td>\n      <td>76.332</td>\n      <td>4</td>\n      <td>acoustic</td>\n    </tr>\n    <tr>\n      <th>3</th>\n      <td>3</td>\n      <td>6lfxq3CG4xtTiEg7opyCyx</td>\n      <td>Kina Grannis</td>\n      <td>Crazy Rich Asians (Original Motion Picture Sou...</td>\n      <td>Can't Help Falling In Love</td>\n      <td>71</td>\n      <td>201933</td>\n      <td>False</td>\n      <td>0.266</td>\n      <td>0.0596</td>\n      <td>...</td>\n      <td>-18.515</td>\n      <td>1</td>\n      <td>0.0363</td>\n      <td>0.9050</td>\n      <td>0.000071</td>\n      <td>0.1320</td>\n      <td>0.143</td>\n      <td>181.740</td>\n      <td>3</td>\n      <td>acoustic</td>\n    </tr>\n    <tr>\n      <th>4</th>\n      <td>4</td>\n      <td>5vjLSffimiIP26QG5WcN2K</td>\n      <td>Chord Overstreet</td>\n      <td>Hold On</td>\n      <td>Hold On</td>\n      <td>82</td>\n      <td>198853</td>\n      <td>False</td>\n      <td>0.618</td>\n      <td>0.4430</td>\n      <td>...</td>\n      <td>-9.681</td>\n      <td>1</td>\n      <td>0.0526</td>\n      <td>0.4690</td>\n      <td>0.000000</td>\n      <td>0.0829</td>\n      <td>0.167</td>\n      <td>119.949</td>\n      <td>4</td>\n      <td>acoustic</td>\n    </tr>\n  </tbody>\n</table>\n<p>5 rows × 21 columns</p>\n</div>"
     },
     "execution_count": 203,
     "metadata": {},
     "output_type": "execute_result"
    }
   ],
   "source": [
    "# Import necessary libraries\n",
    "import pandas as pd\n",
    "import seaborn as sns\n",
    "from sklearn.preprocessing import StandardScaler\n",
    "from sklearn.neighbors import NearestNeighbors\n",
    "\n",
    "# Set the style for data visualization\n",
    "sns.set(style=\"whitegrid\")\n",
    "\n",
    "# Load the dataset (replace 'your_dataset.csv' with the actual file path)\n",
    "data = pd.read_csv(\"dataset.csv\")\n",
    "\n",
    "data.head()"
   ],
   "metadata": {
    "collapsed": false,
    "ExecuteTime": {
     "end_time": "2023-10-01T19:47:06.516870Z",
     "start_time": "2023-10-01T19:47:06.150762Z"
    }
   },
   "id": "b721bcbbe8a38a2d"
  },
  {
   "cell_type": "code",
   "execution_count": 204,
   "outputs": [
    {
     "name": "stdout",
     "output_type": "stream",
     "text": [
      "Missing Values:\n"
     ]
    },
    {
     "data": {
      "text/plain": "Unnamed: 0          0\ntrack_id            0\nartists             1\nalbum_name          1\ntrack_name          1\npopularity          0\nduration_ms         0\nexplicit            0\ndanceability        0\nenergy              0\nkey                 0\nloudness            0\nmode                0\nspeechiness         0\nacousticness        0\ninstrumentalness    0\nliveness            0\nvalence             0\ntempo               0\ntime_signature      0\ntrack_genre         0\ndtype: int64"
     },
     "execution_count": 204,
     "metadata": {},
     "output_type": "execute_result"
    }
   ],
   "source": [
    "missing_values = data.isnull().sum()\n",
    "print(\"Missing Values:\")\n",
    "missing_values"
   ],
   "metadata": {
    "collapsed": false,
    "ExecuteTime": {
     "end_time": "2023-10-01T19:47:06.537902Z",
     "start_time": "2023-10-01T19:47:06.514032Z"
    }
   },
   "id": "c26587fed2665d35"
  },
  {
   "cell_type": "code",
   "execution_count": 205,
   "outputs": [
    {
     "name": "stdout",
     "output_type": "stream",
     "text": [
      "Missing Values:\n"
     ]
    },
    {
     "data": {
      "text/plain": "Unnamed: 0          0\ntrack_id            0\nartists             0\nalbum_name          0\ntrack_name          0\npopularity          0\nduration_ms         0\nexplicit            0\ndanceability        0\nenergy              0\nkey                 0\nloudness            0\nmode                0\nspeechiness         0\nacousticness        0\ninstrumentalness    0\nliveness            0\nvalence             0\ntempo               0\ntime_signature      0\ntrack_genre         0\ndtype: int64"
     },
     "execution_count": 205,
     "metadata": {},
     "output_type": "execute_result"
    }
   ],
   "source": [
    "data.dropna(subset=['artists', 'album_name', 'track_name'], inplace=True)\n",
    "data.drop_duplicates(subset=['track_id'], inplace=True)\n",
    "\n",
    "data.reset_index(drop=True, inplace=True)\n",
    "\n",
    "missing_values = data.isnull().sum()\n",
    "\n",
    "print(\"Missing Values:\")\n",
    "missing_values"
   ],
   "metadata": {
    "collapsed": false,
    "ExecuteTime": {
     "end_time": "2023-10-01T19:47:06.655784Z",
     "start_time": "2023-10-01T19:47:06.551082Z"
    }
   },
   "id": "be99d72e7db366ce"
  },
  {
   "cell_type": "code",
   "execution_count": 206,
   "outputs": [
    {
     "data": {
      "text/plain": "          Unnamed: 0    popularity   duration_ms  danceability        energy  \\\ncount   89740.000000  89740.000000  8.974000e+04  89740.000000  89740.000000   \nmean    53479.005739     33.198808  2.291444e+05      0.562166      0.634458   \nstd     33410.141924     20.580640  1.129458e+05      0.176692      0.256606   \nmin         0.000000      0.000000  8.586000e+03      0.000000      0.000000   \n25%     23766.750000     19.000000  1.730400e+05      0.450000      0.457000   \n50%     50680.500000     33.000000  2.132955e+05      0.576000      0.676000   \n75%     80618.500000     49.000000  2.642930e+05      0.692000      0.853000   \nmax    113999.000000    100.000000  5.237295e+06      0.985000      1.000000   \n\n                key      loudness          mode   speechiness  acousticness  \\\ncount  89740.000000  89740.000000  89740.000000  89740.000000  89740.000000   \nmean       5.283530     -8.498994      0.636973      0.087442      0.328285   \nstd        3.559912      5.221518      0.480875      0.113278      0.338321   \nmin        0.000000    -49.531000      0.000000      0.000000      0.000000   \n25%        2.000000    -10.322250      0.000000      0.036000      0.017100   \n50%        5.000000     -7.185000      1.000000      0.048900      0.188000   \n75%        8.000000     -5.108000      1.000000      0.085900      0.625000   \nmax       11.000000      4.532000      1.000000      0.965000      0.996000   \n\n       instrumentalness      liveness       valence         tempo  \\\ncount      89740.000000  89740.000000  89740.000000  89740.000000   \nmean           0.173415      0.216971      0.469474    122.058134   \nstd            0.323849      0.194885      0.262864     30.117651   \nmin            0.000000      0.000000      0.000000      0.000000   \n25%            0.000000      0.098200      0.249000     99.262750   \n50%            0.000058      0.132000      0.457000    122.013000   \n75%            0.097625      0.279000      0.682000    140.077000   \nmax            1.000000      1.000000      0.995000    243.372000   \n\n       time_signature  \ncount    89740.000000  \nmean         3.897426  \nstd          0.453437  \nmin          0.000000  \n25%          4.000000  \n50%          4.000000  \n75%          4.000000  \nmax          5.000000  ",
      "text/html": "<div>\n<style scoped>\n    .dataframe tbody tr th:only-of-type {\n        vertical-align: middle;\n    }\n\n    .dataframe tbody tr th {\n        vertical-align: top;\n    }\n\n    .dataframe thead th {\n        text-align: right;\n    }\n</style>\n<table border=\"1\" class=\"dataframe\">\n  <thead>\n    <tr style=\"text-align: right;\">\n      <th></th>\n      <th>Unnamed: 0</th>\n      <th>popularity</th>\n      <th>duration_ms</th>\n      <th>danceability</th>\n      <th>energy</th>\n      <th>key</th>\n      <th>loudness</th>\n      <th>mode</th>\n      <th>speechiness</th>\n      <th>acousticness</th>\n      <th>instrumentalness</th>\n      <th>liveness</th>\n      <th>valence</th>\n      <th>tempo</th>\n      <th>time_signature</th>\n    </tr>\n  </thead>\n  <tbody>\n    <tr>\n      <th>count</th>\n      <td>89740.000000</td>\n      <td>89740.000000</td>\n      <td>8.974000e+04</td>\n      <td>89740.000000</td>\n      <td>89740.000000</td>\n      <td>89740.000000</td>\n      <td>89740.000000</td>\n      <td>89740.000000</td>\n      <td>89740.000000</td>\n      <td>89740.000000</td>\n      <td>89740.000000</td>\n      <td>89740.000000</td>\n      <td>89740.000000</td>\n      <td>89740.000000</td>\n      <td>89740.000000</td>\n    </tr>\n    <tr>\n      <th>mean</th>\n      <td>53479.005739</td>\n      <td>33.198808</td>\n      <td>2.291444e+05</td>\n      <td>0.562166</td>\n      <td>0.634458</td>\n      <td>5.283530</td>\n      <td>-8.498994</td>\n      <td>0.636973</td>\n      <td>0.087442</td>\n      <td>0.328285</td>\n      <td>0.173415</td>\n      <td>0.216971</td>\n      <td>0.469474</td>\n      <td>122.058134</td>\n      <td>3.897426</td>\n    </tr>\n    <tr>\n      <th>std</th>\n      <td>33410.141924</td>\n      <td>20.580640</td>\n      <td>1.129458e+05</td>\n      <td>0.176692</td>\n      <td>0.256606</td>\n      <td>3.559912</td>\n      <td>5.221518</td>\n      <td>0.480875</td>\n      <td>0.113278</td>\n      <td>0.338321</td>\n      <td>0.323849</td>\n      <td>0.194885</td>\n      <td>0.262864</td>\n      <td>30.117651</td>\n      <td>0.453437</td>\n    </tr>\n    <tr>\n      <th>min</th>\n      <td>0.000000</td>\n      <td>0.000000</td>\n      <td>8.586000e+03</td>\n      <td>0.000000</td>\n      <td>0.000000</td>\n      <td>0.000000</td>\n      <td>-49.531000</td>\n      <td>0.000000</td>\n      <td>0.000000</td>\n      <td>0.000000</td>\n      <td>0.000000</td>\n      <td>0.000000</td>\n      <td>0.000000</td>\n      <td>0.000000</td>\n      <td>0.000000</td>\n    </tr>\n    <tr>\n      <th>25%</th>\n      <td>23766.750000</td>\n      <td>19.000000</td>\n      <td>1.730400e+05</td>\n      <td>0.450000</td>\n      <td>0.457000</td>\n      <td>2.000000</td>\n      <td>-10.322250</td>\n      <td>0.000000</td>\n      <td>0.036000</td>\n      <td>0.017100</td>\n      <td>0.000000</td>\n      <td>0.098200</td>\n      <td>0.249000</td>\n      <td>99.262750</td>\n      <td>4.000000</td>\n    </tr>\n    <tr>\n      <th>50%</th>\n      <td>50680.500000</td>\n      <td>33.000000</td>\n      <td>2.132955e+05</td>\n      <td>0.576000</td>\n      <td>0.676000</td>\n      <td>5.000000</td>\n      <td>-7.185000</td>\n      <td>1.000000</td>\n      <td>0.048900</td>\n      <td>0.188000</td>\n      <td>0.000058</td>\n      <td>0.132000</td>\n      <td>0.457000</td>\n      <td>122.013000</td>\n      <td>4.000000</td>\n    </tr>\n    <tr>\n      <th>75%</th>\n      <td>80618.500000</td>\n      <td>49.000000</td>\n      <td>2.642930e+05</td>\n      <td>0.692000</td>\n      <td>0.853000</td>\n      <td>8.000000</td>\n      <td>-5.108000</td>\n      <td>1.000000</td>\n      <td>0.085900</td>\n      <td>0.625000</td>\n      <td>0.097625</td>\n      <td>0.279000</td>\n      <td>0.682000</td>\n      <td>140.077000</td>\n      <td>4.000000</td>\n    </tr>\n    <tr>\n      <th>max</th>\n      <td>113999.000000</td>\n      <td>100.000000</td>\n      <td>5.237295e+06</td>\n      <td>0.985000</td>\n      <td>1.000000</td>\n      <td>11.000000</td>\n      <td>4.532000</td>\n      <td>1.000000</td>\n      <td>0.965000</td>\n      <td>0.996000</td>\n      <td>1.000000</td>\n      <td>1.000000</td>\n      <td>0.995000</td>\n      <td>243.372000</td>\n      <td>5.000000</td>\n    </tr>\n  </tbody>\n</table>\n</div>"
     },
     "execution_count": 206,
     "metadata": {},
     "output_type": "execute_result"
    }
   ],
   "source": [
    "data.describe()"
   ],
   "metadata": {
    "collapsed": false,
    "ExecuteTime": {
     "end_time": "2023-10-01T19:47:06.694680Z",
     "start_time": "2023-10-01T19:47:06.611010Z"
    }
   },
   "id": "98d6b416ac5b9ef"
  },
  {
   "cell_type": "code",
   "execution_count": 207,
   "outputs": [
    {
     "data": {
      "text/plain": "                      artists  popularity  duration_ms  explicit  \\\n0                 Gen Hoshino          73       230666     False   \n1                Ben Woodward          55       149610     False   \n2      Ingrid Michaelson;ZAYN          57       210826     False   \n3                Kina Grannis          71       201933     False   \n4            Chord Overstreet          82       198853     False   \n...                       ...         ...          ...       ...   \n89735           Rainy Lullaby          21       384999     False   \n89736           Rainy Lullaby          22       385000     False   \n89737           Cesária Evora          22       271466     False   \n89738        Michael W. Smith          41       283893     False   \n89739           Cesária Evora          22       241826     False   \n\n       danceability  energy  loudness  speechiness  acousticness  \\\n0             0.676  0.4610    -6.746       0.1430        0.0322   \n1             0.420  0.1660   -17.235       0.0763        0.9240   \n2             0.438  0.3590    -9.734       0.0557        0.2100   \n3             0.266  0.0596   -18.515       0.0363        0.9050   \n4             0.618  0.4430    -9.681       0.0526        0.4690   \n...             ...     ...       ...          ...           ...   \n89735         0.172  0.2350   -16.393       0.0422        0.6400   \n89736         0.174  0.1170   -18.318       0.0401        0.9940   \n89737         0.629  0.3290   -10.895       0.0420        0.8670   \n89738         0.587  0.5060   -10.889       0.0297        0.3810   \n89739         0.526  0.4870   -10.204       0.0725        0.6810   \n\n       instrumentalness  liveness  valence    tempo  track_genre  \n0              0.000001    0.3580   0.7150   87.917     acoustic  \n1              0.000006    0.1010   0.2670   77.489     acoustic  \n2              0.000000    0.1170   0.1200   76.332     acoustic  \n3              0.000071    0.1320   0.1430  181.740     acoustic  \n4              0.000000    0.0829   0.1670  119.949     acoustic  \n...                 ...       ...      ...      ...          ...  \n89735          0.928000    0.0863   0.0339  125.995  world-music  \n89736          0.976000    0.1050   0.0350   85.239  world-music  \n89737          0.000000    0.0839   0.7430  132.378  world-music  \n89738          0.000000    0.2700   0.4130  135.960  world-music  \n89739          0.000000    0.0893   0.7080   79.198  world-music  \n\n[89740 rows x 14 columns]",
      "text/html": "<div>\n<style scoped>\n    .dataframe tbody tr th:only-of-type {\n        vertical-align: middle;\n    }\n\n    .dataframe tbody tr th {\n        vertical-align: top;\n    }\n\n    .dataframe thead th {\n        text-align: right;\n    }\n</style>\n<table border=\"1\" class=\"dataframe\">\n  <thead>\n    <tr style=\"text-align: right;\">\n      <th></th>\n      <th>artists</th>\n      <th>popularity</th>\n      <th>duration_ms</th>\n      <th>explicit</th>\n      <th>danceability</th>\n      <th>energy</th>\n      <th>loudness</th>\n      <th>speechiness</th>\n      <th>acousticness</th>\n      <th>instrumentalness</th>\n      <th>liveness</th>\n      <th>valence</th>\n      <th>tempo</th>\n      <th>track_genre</th>\n    </tr>\n  </thead>\n  <tbody>\n    <tr>\n      <th>0</th>\n      <td>Gen Hoshino</td>\n      <td>73</td>\n      <td>230666</td>\n      <td>False</td>\n      <td>0.676</td>\n      <td>0.4610</td>\n      <td>-6.746</td>\n      <td>0.1430</td>\n      <td>0.0322</td>\n      <td>0.000001</td>\n      <td>0.3580</td>\n      <td>0.7150</td>\n      <td>87.917</td>\n      <td>acoustic</td>\n    </tr>\n    <tr>\n      <th>1</th>\n      <td>Ben Woodward</td>\n      <td>55</td>\n      <td>149610</td>\n      <td>False</td>\n      <td>0.420</td>\n      <td>0.1660</td>\n      <td>-17.235</td>\n      <td>0.0763</td>\n      <td>0.9240</td>\n      <td>0.000006</td>\n      <td>0.1010</td>\n      <td>0.2670</td>\n      <td>77.489</td>\n      <td>acoustic</td>\n    </tr>\n    <tr>\n      <th>2</th>\n      <td>Ingrid Michaelson;ZAYN</td>\n      <td>57</td>\n      <td>210826</td>\n      <td>False</td>\n      <td>0.438</td>\n      <td>0.3590</td>\n      <td>-9.734</td>\n      <td>0.0557</td>\n      <td>0.2100</td>\n      <td>0.000000</td>\n      <td>0.1170</td>\n      <td>0.1200</td>\n      <td>76.332</td>\n      <td>acoustic</td>\n    </tr>\n    <tr>\n      <th>3</th>\n      <td>Kina Grannis</td>\n      <td>71</td>\n      <td>201933</td>\n      <td>False</td>\n      <td>0.266</td>\n      <td>0.0596</td>\n      <td>-18.515</td>\n      <td>0.0363</td>\n      <td>0.9050</td>\n      <td>0.000071</td>\n      <td>0.1320</td>\n      <td>0.1430</td>\n      <td>181.740</td>\n      <td>acoustic</td>\n    </tr>\n    <tr>\n      <th>4</th>\n      <td>Chord Overstreet</td>\n      <td>82</td>\n      <td>198853</td>\n      <td>False</td>\n      <td>0.618</td>\n      <td>0.4430</td>\n      <td>-9.681</td>\n      <td>0.0526</td>\n      <td>0.4690</td>\n      <td>0.000000</td>\n      <td>0.0829</td>\n      <td>0.1670</td>\n      <td>119.949</td>\n      <td>acoustic</td>\n    </tr>\n    <tr>\n      <th>...</th>\n      <td>...</td>\n      <td>...</td>\n      <td>...</td>\n      <td>...</td>\n      <td>...</td>\n      <td>...</td>\n      <td>...</td>\n      <td>...</td>\n      <td>...</td>\n      <td>...</td>\n      <td>...</td>\n      <td>...</td>\n      <td>...</td>\n      <td>...</td>\n    </tr>\n    <tr>\n      <th>89735</th>\n      <td>Rainy Lullaby</td>\n      <td>21</td>\n      <td>384999</td>\n      <td>False</td>\n      <td>0.172</td>\n      <td>0.2350</td>\n      <td>-16.393</td>\n      <td>0.0422</td>\n      <td>0.6400</td>\n      <td>0.928000</td>\n      <td>0.0863</td>\n      <td>0.0339</td>\n      <td>125.995</td>\n      <td>world-music</td>\n    </tr>\n    <tr>\n      <th>89736</th>\n      <td>Rainy Lullaby</td>\n      <td>22</td>\n      <td>385000</td>\n      <td>False</td>\n      <td>0.174</td>\n      <td>0.1170</td>\n      <td>-18.318</td>\n      <td>0.0401</td>\n      <td>0.9940</td>\n      <td>0.976000</td>\n      <td>0.1050</td>\n      <td>0.0350</td>\n      <td>85.239</td>\n      <td>world-music</td>\n    </tr>\n    <tr>\n      <th>89737</th>\n      <td>Cesária Evora</td>\n      <td>22</td>\n      <td>271466</td>\n      <td>False</td>\n      <td>0.629</td>\n      <td>0.3290</td>\n      <td>-10.895</td>\n      <td>0.0420</td>\n      <td>0.8670</td>\n      <td>0.000000</td>\n      <td>0.0839</td>\n      <td>0.7430</td>\n      <td>132.378</td>\n      <td>world-music</td>\n    </tr>\n    <tr>\n      <th>89738</th>\n      <td>Michael W. Smith</td>\n      <td>41</td>\n      <td>283893</td>\n      <td>False</td>\n      <td>0.587</td>\n      <td>0.5060</td>\n      <td>-10.889</td>\n      <td>0.0297</td>\n      <td>0.3810</td>\n      <td>0.000000</td>\n      <td>0.2700</td>\n      <td>0.4130</td>\n      <td>135.960</td>\n      <td>world-music</td>\n    </tr>\n    <tr>\n      <th>89739</th>\n      <td>Cesária Evora</td>\n      <td>22</td>\n      <td>241826</td>\n      <td>False</td>\n      <td>0.526</td>\n      <td>0.4870</td>\n      <td>-10.204</td>\n      <td>0.0725</td>\n      <td>0.6810</td>\n      <td>0.000000</td>\n      <td>0.0893</td>\n      <td>0.7080</td>\n      <td>79.198</td>\n      <td>world-music</td>\n    </tr>\n  </tbody>\n</table>\n<p>89740 rows × 14 columns</p>\n</div>"
     },
     "execution_count": 207,
     "metadata": {},
     "output_type": "execute_result"
    }
   ],
   "source": [
    "data.drop([\"track_id\", \"Unnamed: 0\", \"artists\", \"album_name\", \"track_name\", \"key\", \"time_signature\", \"mode\", \"track_genre\"], axis=1, inplace=True)\n",
    "\n",
    "data"
   ],
   "metadata": {
    "collapsed": false,
    "ExecuteTime": {
     "end_time": "2023-10-01T19:47:06.714245Z",
     "start_time": "2023-10-01T19:47:06.689883Z"
    }
   },
   "id": "add59a8ef809a3cb"
  },
  {
   "cell_type": "markdown",
   "source": [
    "Here, I chose to drop some features that seemed irrelevant. For the first two, it is because they are randomly generated IDs, which would interfere with the model, for all the names, it is because liking a song by an artist doesn't mean you will like songs by artists with similar names, and same for albums and titles, for key and time signature, it is because most people do not care what key/time signature their music is in, for mode, I am not sure what that feature symbolized, so I chose to remove them. Finally, it seems there was a problem in my data, as the every track had a genre of \"acoustic\"."
   ],
   "metadata": {
    "collapsed": false
   },
   "id": "b61abd06007bf26e"
  },
  {
   "cell_type": "code",
   "execution_count": 208,
   "outputs": [
    {
     "ename": "ValueError",
     "evalue": "could not convert string to float: 'Gen Hoshino'",
     "output_type": "error",
     "traceback": [
      "\u001B[0;31m---------------------------------------------------------------------------\u001B[0m",
      "\u001B[0;31mValueError\u001B[0m                                Traceback (most recent call last)",
      "Cell \u001B[0;32mIn[208], line 1\u001B[0m\n\u001B[0;32m----> 1\u001B[0m correlation_matrix \u001B[38;5;241m=\u001B[39m \u001B[43mdata\u001B[49m\u001B[38;5;241;43m.\u001B[39;49m\u001B[43mcorr\u001B[49m\u001B[43m(\u001B[49m\u001B[43m)\u001B[49m\n\u001B[1;32m      3\u001B[0m correlations \u001B[38;5;241m=\u001B[39m correlation_matrix\u001B[38;5;241m.\u001B[39mabs()\u001B[38;5;241m.\u001B[39munstack()\u001B[38;5;241m.\u001B[39msort_values(ascending\u001B[38;5;241m=\u001B[39m\u001B[38;5;28;01mFalse\u001B[39;00m)\n\u001B[1;32m      5\u001B[0m \u001B[38;5;66;03m# Filter out correlations with themselves (diagonal) and keep only the top correlated pairs\u001B[39;00m\n",
      "File \u001B[0;32m~/Documents/Code/song_rec_ml/venv/lib/python3.9/site-packages/pandas/core/frame.py:10707\u001B[0m, in \u001B[0;36mDataFrame.corr\u001B[0;34m(self, method, min_periods, numeric_only)\u001B[0m\n\u001B[1;32m  10705\u001B[0m cols \u001B[38;5;241m=\u001B[39m data\u001B[38;5;241m.\u001B[39mcolumns\n\u001B[1;32m  10706\u001B[0m idx \u001B[38;5;241m=\u001B[39m cols\u001B[38;5;241m.\u001B[39mcopy()\n\u001B[0;32m> 10707\u001B[0m mat \u001B[38;5;241m=\u001B[39m \u001B[43mdata\u001B[49m\u001B[38;5;241;43m.\u001B[39;49m\u001B[43mto_numpy\u001B[49m\u001B[43m(\u001B[49m\u001B[43mdtype\u001B[49m\u001B[38;5;241;43m=\u001B[39;49m\u001B[38;5;28;43mfloat\u001B[39;49m\u001B[43m,\u001B[49m\u001B[43m \u001B[49m\u001B[43mna_value\u001B[49m\u001B[38;5;241;43m=\u001B[39;49m\u001B[43mnp\u001B[49m\u001B[38;5;241;43m.\u001B[39;49m\u001B[43mnan\u001B[49m\u001B[43m,\u001B[49m\u001B[43m \u001B[49m\u001B[43mcopy\u001B[49m\u001B[38;5;241;43m=\u001B[39;49m\u001B[38;5;28;43;01mFalse\u001B[39;49;00m\u001B[43m)\u001B[49m\n\u001B[1;32m  10709\u001B[0m \u001B[38;5;28;01mif\u001B[39;00m method \u001B[38;5;241m==\u001B[39m \u001B[38;5;124m\"\u001B[39m\u001B[38;5;124mpearson\u001B[39m\u001B[38;5;124m\"\u001B[39m:\n\u001B[1;32m  10710\u001B[0m     correl \u001B[38;5;241m=\u001B[39m libalgos\u001B[38;5;241m.\u001B[39mnancorr(mat, minp\u001B[38;5;241m=\u001B[39mmin_periods)\n",
      "File \u001B[0;32m~/Documents/Code/song_rec_ml/venv/lib/python3.9/site-packages/pandas/core/frame.py:1892\u001B[0m, in \u001B[0;36mDataFrame.to_numpy\u001B[0;34m(self, dtype, copy, na_value)\u001B[0m\n\u001B[1;32m   1890\u001B[0m \u001B[38;5;28;01mif\u001B[39;00m dtype \u001B[38;5;129;01mis\u001B[39;00m \u001B[38;5;129;01mnot\u001B[39;00m \u001B[38;5;28;01mNone\u001B[39;00m:\n\u001B[1;32m   1891\u001B[0m     dtype \u001B[38;5;241m=\u001B[39m np\u001B[38;5;241m.\u001B[39mdtype(dtype)\n\u001B[0;32m-> 1892\u001B[0m result \u001B[38;5;241m=\u001B[39m \u001B[38;5;28;43mself\u001B[39;49m\u001B[38;5;241;43m.\u001B[39;49m\u001B[43m_mgr\u001B[49m\u001B[38;5;241;43m.\u001B[39;49m\u001B[43mas_array\u001B[49m\u001B[43m(\u001B[49m\u001B[43mdtype\u001B[49m\u001B[38;5;241;43m=\u001B[39;49m\u001B[43mdtype\u001B[49m\u001B[43m,\u001B[49m\u001B[43m \u001B[49m\u001B[43mcopy\u001B[49m\u001B[38;5;241;43m=\u001B[39;49m\u001B[43mcopy\u001B[49m\u001B[43m,\u001B[49m\u001B[43m \u001B[49m\u001B[43mna_value\u001B[49m\u001B[38;5;241;43m=\u001B[39;49m\u001B[43mna_value\u001B[49m\u001B[43m)\u001B[49m\n\u001B[1;32m   1893\u001B[0m \u001B[38;5;28;01mif\u001B[39;00m result\u001B[38;5;241m.\u001B[39mdtype \u001B[38;5;129;01mis\u001B[39;00m \u001B[38;5;129;01mnot\u001B[39;00m dtype:\n\u001B[1;32m   1894\u001B[0m     result \u001B[38;5;241m=\u001B[39m np\u001B[38;5;241m.\u001B[39marray(result, dtype\u001B[38;5;241m=\u001B[39mdtype, copy\u001B[38;5;241m=\u001B[39m\u001B[38;5;28;01mFalse\u001B[39;00m)\n",
      "File \u001B[0;32m~/Documents/Code/song_rec_ml/venv/lib/python3.9/site-packages/pandas/core/internals/managers.py:1656\u001B[0m, in \u001B[0;36mBlockManager.as_array\u001B[0;34m(self, dtype, copy, na_value)\u001B[0m\n\u001B[1;32m   1654\u001B[0m         arr\u001B[38;5;241m.\u001B[39mflags\u001B[38;5;241m.\u001B[39mwriteable \u001B[38;5;241m=\u001B[39m \u001B[38;5;28;01mFalse\u001B[39;00m\n\u001B[1;32m   1655\u001B[0m \u001B[38;5;28;01melse\u001B[39;00m:\n\u001B[0;32m-> 1656\u001B[0m     arr \u001B[38;5;241m=\u001B[39m \u001B[38;5;28;43mself\u001B[39;49m\u001B[38;5;241;43m.\u001B[39;49m\u001B[43m_interleave\u001B[49m\u001B[43m(\u001B[49m\u001B[43mdtype\u001B[49m\u001B[38;5;241;43m=\u001B[39;49m\u001B[43mdtype\u001B[49m\u001B[43m,\u001B[49m\u001B[43m \u001B[49m\u001B[43mna_value\u001B[49m\u001B[38;5;241;43m=\u001B[39;49m\u001B[43mna_value\u001B[49m\u001B[43m)\u001B[49m\n\u001B[1;32m   1657\u001B[0m     \u001B[38;5;66;03m# The underlying data was copied within _interleave, so no need\u001B[39;00m\n\u001B[1;32m   1658\u001B[0m     \u001B[38;5;66;03m# to further copy if copy=True or setting na_value\u001B[39;00m\n\u001B[1;32m   1660\u001B[0m \u001B[38;5;28;01mif\u001B[39;00m na_value \u001B[38;5;129;01mis\u001B[39;00m lib\u001B[38;5;241m.\u001B[39mno_default:\n",
      "File \u001B[0;32m~/Documents/Code/song_rec_ml/venv/lib/python3.9/site-packages/pandas/core/internals/managers.py:1715\u001B[0m, in \u001B[0;36mBlockManager._interleave\u001B[0;34m(self, dtype, na_value)\u001B[0m\n\u001B[1;32m   1713\u001B[0m     \u001B[38;5;28;01melse\u001B[39;00m:\n\u001B[1;32m   1714\u001B[0m         arr \u001B[38;5;241m=\u001B[39m blk\u001B[38;5;241m.\u001B[39mget_values(dtype)\n\u001B[0;32m-> 1715\u001B[0m     \u001B[43mresult\u001B[49m\u001B[43m[\u001B[49m\u001B[43mrl\u001B[49m\u001B[38;5;241;43m.\u001B[39;49m\u001B[43mindexer\u001B[49m\u001B[43m]\u001B[49m \u001B[38;5;241m=\u001B[39m arr\n\u001B[1;32m   1716\u001B[0m     itemmask[rl\u001B[38;5;241m.\u001B[39mindexer] \u001B[38;5;241m=\u001B[39m \u001B[38;5;241m1\u001B[39m\n\u001B[1;32m   1718\u001B[0m \u001B[38;5;28;01mif\u001B[39;00m \u001B[38;5;129;01mnot\u001B[39;00m itemmask\u001B[38;5;241m.\u001B[39mall():\n",
      "\u001B[0;31mValueError\u001B[0m: could not convert string to float: 'Gen Hoshino'"
     ]
    }
   ],
   "source": [
    "correlation_matrix = data.corr()\n",
    "\n",
    "correlations = correlation_matrix.abs().unstack().sort_values(ascending=False)\n",
    "\n",
    "# Filter out correlations with themselves (diagonal) and keep only the top correlated pairs\n",
    "top_correlations = correlations[correlations != 1.0]\n",
    "\n",
    "print(\"Top Correlated Feature Pairs:\")\n",
    "top_correlations\n",
    "\n",
    "# all this looks alright, no feature seem to be correlated apart from what can be expected (energy/loudness/acousticness, mainly)"
   ],
   "metadata": {
    "collapsed": false,
    "ExecuteTime": {
     "end_time": "2023-10-01T19:47:07.182710Z",
     "start_time": "2023-10-01T19:47:06.717674Z"
    }
   },
   "id": "69ece80792dfa543"
  },
  {
   "cell_type": "code",
   "execution_count": null,
   "outputs": [],
   "source": [
    "scaler = StandardScaler()\n",
    "\n",
    "data[data.columns] = scaler.fit_transform(data[data.columns])\n",
    "\n",
    "data[data.columns]"
   ],
   "metadata": {
    "collapsed": false,
    "ExecuteTime": {
     "start_time": "2023-10-01T19:47:07.132362Z"
    }
   },
   "id": "32bbeb0b6f250cee"
  },
  {
   "cell_type": "code",
   "execution_count": null,
   "outputs": [],
   "source": [
    "df = pd.read_csv(\"dataset.csv\")\n",
    "\n",
    "df.dropna(subset=['artists', 'album_name', 'track_name'], inplace=True)\n",
    "\n",
    "df.reset_index(drop=True, inplace=True)"
   ],
   "metadata": {
    "collapsed": false,
    "ExecuteTime": {
     "start_time": "2023-10-01T19:47:07.142283Z"
    }
   },
   "id": "58b091d59c703f97"
  },
  {
   "cell_type": "code",
   "execution_count": null,
   "outputs": [],
   "source": [
    "selected_features = data[data.columns]  # Replace with your chosen features\n",
    "\n",
    "normalized_features = (selected_features - selected_features.mean()) / selected_features.std()\n",
    "\n",
    "k = 5  # Number of neighbors to consider\n",
    "knn_model = NearestNeighbors(n_neighbors=k, metric='euclidean')  # Use Euclidean distance\n",
    "\n",
    "knn_model.fit(normalized_features)\n",
    "\n",
    "# Choose a target item for which you want to make recommendations\n",
    "target_track_name = '21 Guns'\n",
    "target_artist = 'Green Day'\n",
    "target_row = df[(df['track_name'] == target_track_name) & (df['artists'] == target_artist)].index[0]\n",
    "\n",
    "distances, indices = knn_model.kneighbors([normalized_features.iloc[target_row]])\n",
    "\n",
    "recommended_item_indices = indices[0][1:]\n",
    "\n",
    "print(\"Recommended Items:\")\n",
    "print(df.iloc[recommended_item_indices])"
   ],
   "metadata": {
    "collapsed": false,
    "ExecuteTime": {
     "start_time": "2023-10-01T19:47:07.149198Z"
    }
   },
   "id": "f3769d4bbebac74"
  }
 ],
 "metadata": {
  "kernelspec": {
   "display_name": "Python 3",
   "language": "python",
   "name": "python3"
  },
  "language_info": {
   "codemirror_mode": {
    "name": "ipython",
    "version": 2
   },
   "file_extension": ".py",
   "mimetype": "text/x-python",
   "name": "python",
   "nbconvert_exporter": "python",
   "pygments_lexer": "ipython2",
   "version": "2.7.6"
  }
 },
 "nbformat": 4,
 "nbformat_minor": 5
}
