{
 "cells": [
  {
   "cell_type": "markdown",
   "source": [
    "# Music Recommendation System Project\n",
    "\n",
    "In this project, we will build a music recommendation system using machine learning techniques. The goal is to create a model that can recommend music based on similarity with another song the user inputs.\n",
    "\n",
    "We have a large dataset in CSV format containing information about music tracks. This dataset includes features such as artists, album name, danceability, energy, and genre, among others. We will try to find the best way to make accurate recommendations, through exploring the data carefully, choosing the right features to use, and finally trying and comparing the accuracy of different algorithms."
   ],
   "metadata": {
    "collapsed": false
   },
   "id": "f4dae394aa512620"
  },
  {
   "cell_type": "code",
   "execution_count": 185,
   "outputs": [
    {
     "data": {
      "text/plain": "   Unnamed: 0                track_id                 artists  \\\n0           0  5SuOikwiRyPMVoIQDJUgSV             Gen Hoshino   \n1           1  4qPNDBW1i3p13qLCt0Ki3A            Ben Woodward   \n2           2  1iJBSr7s7jYXzM8EGcbK5b  Ingrid Michaelson;ZAYN   \n3           3  6lfxq3CG4xtTiEg7opyCyx            Kina Grannis   \n4           4  5vjLSffimiIP26QG5WcN2K        Chord Overstreet   \n\n                                          album_name  \\\n0                                             Comedy   \n1                                   Ghost (Acoustic)   \n2                                     To Begin Again   \n3  Crazy Rich Asians (Original Motion Picture Sou...   \n4                                            Hold On   \n\n                   track_name  popularity  duration_ms  explicit  \\\n0                      Comedy          73       230666     False   \n1            Ghost - Acoustic          55       149610     False   \n2              To Begin Again          57       210826     False   \n3  Can't Help Falling In Love          71       201933     False   \n4                     Hold On          82       198853     False   \n\n   danceability  energy  ...  loudness  mode  speechiness  acousticness  \\\n0         0.676  0.4610  ...    -6.746     0       0.1430        0.0322   \n1         0.420  0.1660  ...   -17.235     1       0.0763        0.9240   \n2         0.438  0.3590  ...    -9.734     1       0.0557        0.2100   \n3         0.266  0.0596  ...   -18.515     1       0.0363        0.9050   \n4         0.618  0.4430  ...    -9.681     1       0.0526        0.4690   \n\n   instrumentalness  liveness  valence    tempo  time_signature  track_genre  \n0          0.000001    0.3580    0.715   87.917               4     acoustic  \n1          0.000006    0.1010    0.267   77.489               4     acoustic  \n2          0.000000    0.1170    0.120   76.332               4     acoustic  \n3          0.000071    0.1320    0.143  181.740               3     acoustic  \n4          0.000000    0.0829    0.167  119.949               4     acoustic  \n\n[5 rows x 21 columns]",
      "text/html": "<div>\n<style scoped>\n    .dataframe tbody tr th:only-of-type {\n        vertical-align: middle;\n    }\n\n    .dataframe tbody tr th {\n        vertical-align: top;\n    }\n\n    .dataframe thead th {\n        text-align: right;\n    }\n</style>\n<table border=\"1\" class=\"dataframe\">\n  <thead>\n    <tr style=\"text-align: right;\">\n      <th></th>\n      <th>Unnamed: 0</th>\n      <th>track_id</th>\n      <th>artists</th>\n      <th>album_name</th>\n      <th>track_name</th>\n      <th>popularity</th>\n      <th>duration_ms</th>\n      <th>explicit</th>\n      <th>danceability</th>\n      <th>energy</th>\n      <th>...</th>\n      <th>loudness</th>\n      <th>mode</th>\n      <th>speechiness</th>\n      <th>acousticness</th>\n      <th>instrumentalness</th>\n      <th>liveness</th>\n      <th>valence</th>\n      <th>tempo</th>\n      <th>time_signature</th>\n      <th>track_genre</th>\n    </tr>\n  </thead>\n  <tbody>\n    <tr>\n      <th>0</th>\n      <td>0</td>\n      <td>5SuOikwiRyPMVoIQDJUgSV</td>\n      <td>Gen Hoshino</td>\n      <td>Comedy</td>\n      <td>Comedy</td>\n      <td>73</td>\n      <td>230666</td>\n      <td>False</td>\n      <td>0.676</td>\n      <td>0.4610</td>\n      <td>...</td>\n      <td>-6.746</td>\n      <td>0</td>\n      <td>0.1430</td>\n      <td>0.0322</td>\n      <td>0.000001</td>\n      <td>0.3580</td>\n      <td>0.715</td>\n      <td>87.917</td>\n      <td>4</td>\n      <td>acoustic</td>\n    </tr>\n    <tr>\n      <th>1</th>\n      <td>1</td>\n      <td>4qPNDBW1i3p13qLCt0Ki3A</td>\n      <td>Ben Woodward</td>\n      <td>Ghost (Acoustic)</td>\n      <td>Ghost - Acoustic</td>\n      <td>55</td>\n      <td>149610</td>\n      <td>False</td>\n      <td>0.420</td>\n      <td>0.1660</td>\n      <td>...</td>\n      <td>-17.235</td>\n      <td>1</td>\n      <td>0.0763</td>\n      <td>0.9240</td>\n      <td>0.000006</td>\n      <td>0.1010</td>\n      <td>0.267</td>\n      <td>77.489</td>\n      <td>4</td>\n      <td>acoustic</td>\n    </tr>\n    <tr>\n      <th>2</th>\n      <td>2</td>\n      <td>1iJBSr7s7jYXzM8EGcbK5b</td>\n      <td>Ingrid Michaelson;ZAYN</td>\n      <td>To Begin Again</td>\n      <td>To Begin Again</td>\n      <td>57</td>\n      <td>210826</td>\n      <td>False</td>\n      <td>0.438</td>\n      <td>0.3590</td>\n      <td>...</td>\n      <td>-9.734</td>\n      <td>1</td>\n      <td>0.0557</td>\n      <td>0.2100</td>\n      <td>0.000000</td>\n      <td>0.1170</td>\n      <td>0.120</td>\n      <td>76.332</td>\n      <td>4</td>\n      <td>acoustic</td>\n    </tr>\n    <tr>\n      <th>3</th>\n      <td>3</td>\n      <td>6lfxq3CG4xtTiEg7opyCyx</td>\n      <td>Kina Grannis</td>\n      <td>Crazy Rich Asians (Original Motion Picture Sou...</td>\n      <td>Can't Help Falling In Love</td>\n      <td>71</td>\n      <td>201933</td>\n      <td>False</td>\n      <td>0.266</td>\n      <td>0.0596</td>\n      <td>...</td>\n      <td>-18.515</td>\n      <td>1</td>\n      <td>0.0363</td>\n      <td>0.9050</td>\n      <td>0.000071</td>\n      <td>0.1320</td>\n      <td>0.143</td>\n      <td>181.740</td>\n      <td>3</td>\n      <td>acoustic</td>\n    </tr>\n    <tr>\n      <th>4</th>\n      <td>4</td>\n      <td>5vjLSffimiIP26QG5WcN2K</td>\n      <td>Chord Overstreet</td>\n      <td>Hold On</td>\n      <td>Hold On</td>\n      <td>82</td>\n      <td>198853</td>\n      <td>False</td>\n      <td>0.618</td>\n      <td>0.4430</td>\n      <td>...</td>\n      <td>-9.681</td>\n      <td>1</td>\n      <td>0.0526</td>\n      <td>0.4690</td>\n      <td>0.000000</td>\n      <td>0.0829</td>\n      <td>0.167</td>\n      <td>119.949</td>\n      <td>4</td>\n      <td>acoustic</td>\n    </tr>\n  </tbody>\n</table>\n<p>5 rows × 21 columns</p>\n</div>"
     },
     "execution_count": 185,
     "metadata": {},
     "output_type": "execute_result"
    }
   ],
   "source": [
    "# Import necessary libraries\n",
    "import numpy as np\n",
    "import pandas as pd\n",
    "import seaborn as sns\n",
    "from sklearn.preprocessing import StandardScaler\n",
    "from sklearn.neighbors import NearestNeighbors\n",
    "\n",
    "# Set the style for data visualization\n",
    "sns.set(style=\"whitegrid\")\n",
    "\n",
    "# Load the dataset (replace 'your_dataset.csv' with the actual file path)\n",
    "data = pd.read_csv(\"dataset.csv\")\n",
    "\n",
    "data.head()"
   ],
   "metadata": {
    "collapsed": false,
    "ExecuteTime": {
     "end_time": "2023-10-01T19:43:22.289720Z",
     "start_time": "2023-10-01T19:43:21.798859Z"
    }
   },
   "id": "b721bcbbe8a38a2d"
  },
  {
   "cell_type": "code",
   "execution_count": 186,
   "outputs": [
    {
     "name": "stdout",
     "output_type": "stream",
     "text": [
      "Missing Values:\n"
     ]
    },
    {
     "data": {
      "text/plain": "Unnamed: 0          0\ntrack_id            0\nartists             1\nalbum_name          1\ntrack_name          1\npopularity          0\nduration_ms         0\nexplicit            0\ndanceability        0\nenergy              0\nkey                 0\nloudness            0\nmode                0\nspeechiness         0\nacousticness        0\ninstrumentalness    0\nliveness            0\nvalence             0\ntempo               0\ntime_signature      0\ntrack_genre         0\ndtype: int64"
     },
     "execution_count": 186,
     "metadata": {},
     "output_type": "execute_result"
    }
   ],
   "source": [
    "missing_values = data.isnull().sum()\n",
    "print(\"Missing Values:\")\n",
    "missing_values"
   ],
   "metadata": {
    "collapsed": false,
    "ExecuteTime": {
     "end_time": "2023-10-01T19:43:22.355181Z",
     "start_time": "2023-10-01T19:43:22.287406Z"
    }
   },
   "id": "c26587fed2665d35"
  },
  {
   "cell_type": "code",
   "execution_count": 187,
   "outputs": [
    {
     "name": "stdout",
     "output_type": "stream",
     "text": [
      "Missing Values:\n"
     ]
    },
    {
     "data": {
      "text/plain": "Unnamed: 0          0\ntrack_id            0\nartists             0\nalbum_name          0\ntrack_name          0\npopularity          0\nduration_ms         0\nexplicit            0\ndanceability        0\nenergy              0\nkey                 0\nloudness            0\nmode                0\nspeechiness         0\nacousticness        0\ninstrumentalness    0\nliveness            0\nvalence             0\ntempo               0\ntime_signature      0\ntrack_genre         0\ndtype: int64"
     },
     "execution_count": 187,
     "metadata": {},
     "output_type": "execute_result"
    }
   ],
   "source": [
    "data.dropna(subset=['artists', 'album_name', 'track_name'], inplace=True)\n",
    "data.drop_duplicates(subset=['track_id'], inplace=True)\n",
    "\n",
    "data.reset_index(drop=True, inplace=True)\n",
    "\n",
    "missing_values = data.isnull().sum()\n",
    "\n",
    "print(\"Missing Values:\")\n",
    "missing_values"
   ],
   "metadata": {
    "collapsed": false,
    "ExecuteTime": {
     "end_time": "2023-10-01T19:43:22.442013Z",
     "start_time": "2023-10-01T19:43:22.330936Z"
    }
   },
   "id": "be99d72e7db366ce"
  },
  {
   "cell_type": "code",
   "execution_count": 188,
   "outputs": [
    {
     "data": {
      "text/plain": "          Unnamed: 0    popularity   duration_ms  danceability        energy  \\\ncount   89740.000000  89740.000000  8.974000e+04  89740.000000  89740.000000   \nmean    53479.005739     33.198808  2.291444e+05      0.562166      0.634458   \nstd     33410.141924     20.580640  1.129458e+05      0.176692      0.256606   \nmin         0.000000      0.000000  8.586000e+03      0.000000      0.000000   \n25%     23766.750000     19.000000  1.730400e+05      0.450000      0.457000   \n50%     50680.500000     33.000000  2.132955e+05      0.576000      0.676000   \n75%     80618.500000     49.000000  2.642930e+05      0.692000      0.853000   \nmax    113999.000000    100.000000  5.237295e+06      0.985000      1.000000   \n\n                key      loudness          mode   speechiness  acousticness  \\\ncount  89740.000000  89740.000000  89740.000000  89740.000000  89740.000000   \nmean       5.283530     -8.498994      0.636973      0.087442      0.328285   \nstd        3.559912      5.221518      0.480875      0.113278      0.338321   \nmin        0.000000    -49.531000      0.000000      0.000000      0.000000   \n25%        2.000000    -10.322250      0.000000      0.036000      0.017100   \n50%        5.000000     -7.185000      1.000000      0.048900      0.188000   \n75%        8.000000     -5.108000      1.000000      0.085900      0.625000   \nmax       11.000000      4.532000      1.000000      0.965000      0.996000   \n\n       instrumentalness      liveness       valence         tempo  \\\ncount      89740.000000  89740.000000  89740.000000  89740.000000   \nmean           0.173415      0.216971      0.469474    122.058134   \nstd            0.323849      0.194885      0.262864     30.117651   \nmin            0.000000      0.000000      0.000000      0.000000   \n25%            0.000000      0.098200      0.249000     99.262750   \n50%            0.000058      0.132000      0.457000    122.013000   \n75%            0.097625      0.279000      0.682000    140.077000   \nmax            1.000000      1.000000      0.995000    243.372000   \n\n       time_signature  \ncount    89740.000000  \nmean         3.897426  \nstd          0.453437  \nmin          0.000000  \n25%          4.000000  \n50%          4.000000  \n75%          4.000000  \nmax          5.000000  ",
      "text/html": "<div>\n<style scoped>\n    .dataframe tbody tr th:only-of-type {\n        vertical-align: middle;\n    }\n\n    .dataframe tbody tr th {\n        vertical-align: top;\n    }\n\n    .dataframe thead th {\n        text-align: right;\n    }\n</style>\n<table border=\"1\" class=\"dataframe\">\n  <thead>\n    <tr style=\"text-align: right;\">\n      <th></th>\n      <th>Unnamed: 0</th>\n      <th>popularity</th>\n      <th>duration_ms</th>\n      <th>danceability</th>\n      <th>energy</th>\n      <th>key</th>\n      <th>loudness</th>\n      <th>mode</th>\n      <th>speechiness</th>\n      <th>acousticness</th>\n      <th>instrumentalness</th>\n      <th>liveness</th>\n      <th>valence</th>\n      <th>tempo</th>\n      <th>time_signature</th>\n    </tr>\n  </thead>\n  <tbody>\n    <tr>\n      <th>count</th>\n      <td>89740.000000</td>\n      <td>89740.000000</td>\n      <td>8.974000e+04</td>\n      <td>89740.000000</td>\n      <td>89740.000000</td>\n      <td>89740.000000</td>\n      <td>89740.000000</td>\n      <td>89740.000000</td>\n      <td>89740.000000</td>\n      <td>89740.000000</td>\n      <td>89740.000000</td>\n      <td>89740.000000</td>\n      <td>89740.000000</td>\n      <td>89740.000000</td>\n      <td>89740.000000</td>\n    </tr>\n    <tr>\n      <th>mean</th>\n      <td>53479.005739</td>\n      <td>33.198808</td>\n      <td>2.291444e+05</td>\n      <td>0.562166</td>\n      <td>0.634458</td>\n      <td>5.283530</td>\n      <td>-8.498994</td>\n      <td>0.636973</td>\n      <td>0.087442</td>\n      <td>0.328285</td>\n      <td>0.173415</td>\n      <td>0.216971</td>\n      <td>0.469474</td>\n      <td>122.058134</td>\n      <td>3.897426</td>\n    </tr>\n    <tr>\n      <th>std</th>\n      <td>33410.141924</td>\n      <td>20.580640</td>\n      <td>1.129458e+05</td>\n      <td>0.176692</td>\n      <td>0.256606</td>\n      <td>3.559912</td>\n      <td>5.221518</td>\n      <td>0.480875</td>\n      <td>0.113278</td>\n      <td>0.338321</td>\n      <td>0.323849</td>\n      <td>0.194885</td>\n      <td>0.262864</td>\n      <td>30.117651</td>\n      <td>0.453437</td>\n    </tr>\n    <tr>\n      <th>min</th>\n      <td>0.000000</td>\n      <td>0.000000</td>\n      <td>8.586000e+03</td>\n      <td>0.000000</td>\n      <td>0.000000</td>\n      <td>0.000000</td>\n      <td>-49.531000</td>\n      <td>0.000000</td>\n      <td>0.000000</td>\n      <td>0.000000</td>\n      <td>0.000000</td>\n      <td>0.000000</td>\n      <td>0.000000</td>\n      <td>0.000000</td>\n      <td>0.000000</td>\n    </tr>\n    <tr>\n      <th>25%</th>\n      <td>23766.750000</td>\n      <td>19.000000</td>\n      <td>1.730400e+05</td>\n      <td>0.450000</td>\n      <td>0.457000</td>\n      <td>2.000000</td>\n      <td>-10.322250</td>\n      <td>0.000000</td>\n      <td>0.036000</td>\n      <td>0.017100</td>\n      <td>0.000000</td>\n      <td>0.098200</td>\n      <td>0.249000</td>\n      <td>99.262750</td>\n      <td>4.000000</td>\n    </tr>\n    <tr>\n      <th>50%</th>\n      <td>50680.500000</td>\n      <td>33.000000</td>\n      <td>2.132955e+05</td>\n      <td>0.576000</td>\n      <td>0.676000</td>\n      <td>5.000000</td>\n      <td>-7.185000</td>\n      <td>1.000000</td>\n      <td>0.048900</td>\n      <td>0.188000</td>\n      <td>0.000058</td>\n      <td>0.132000</td>\n      <td>0.457000</td>\n      <td>122.013000</td>\n      <td>4.000000</td>\n    </tr>\n    <tr>\n      <th>75%</th>\n      <td>80618.500000</td>\n      <td>49.000000</td>\n      <td>2.642930e+05</td>\n      <td>0.692000</td>\n      <td>0.853000</td>\n      <td>8.000000</td>\n      <td>-5.108000</td>\n      <td>1.000000</td>\n      <td>0.085900</td>\n      <td>0.625000</td>\n      <td>0.097625</td>\n      <td>0.279000</td>\n      <td>0.682000</td>\n      <td>140.077000</td>\n      <td>4.000000</td>\n    </tr>\n    <tr>\n      <th>max</th>\n      <td>113999.000000</td>\n      <td>100.000000</td>\n      <td>5.237295e+06</td>\n      <td>0.985000</td>\n      <td>1.000000</td>\n      <td>11.000000</td>\n      <td>4.532000</td>\n      <td>1.000000</td>\n      <td>0.965000</td>\n      <td>0.996000</td>\n      <td>1.000000</td>\n      <td>1.000000</td>\n      <td>0.995000</td>\n      <td>243.372000</td>\n      <td>5.000000</td>\n    </tr>\n  </tbody>\n</table>\n</div>"
     },
     "execution_count": 188,
     "metadata": {},
     "output_type": "execute_result"
    }
   ],
   "source": [
    "data.describe()"
   ],
   "metadata": {
    "collapsed": false,
    "ExecuteTime": {
     "end_time": "2023-10-01T19:43:22.500464Z",
     "start_time": "2023-10-01T19:43:22.389274Z"
    }
   },
   "id": "98d6b416ac5b9ef"
  },
  {
   "cell_type": "code",
   "execution_count": 189,
   "outputs": [
    {
     "data": {
      "text/plain": "       popularity  duration_ms  explicit  danceability  energy  loudness  \\\n0              73       230666     False         0.676  0.4610    -6.746   \n1              55       149610     False         0.420  0.1660   -17.235   \n2              57       210826     False         0.438  0.3590    -9.734   \n3              71       201933     False         0.266  0.0596   -18.515   \n4              82       198853     False         0.618  0.4430    -9.681   \n...           ...          ...       ...           ...     ...       ...   \n89735          21       384999     False         0.172  0.2350   -16.393   \n89736          22       385000     False         0.174  0.1170   -18.318   \n89737          22       271466     False         0.629  0.3290   -10.895   \n89738          41       283893     False         0.587  0.5060   -10.889   \n89739          22       241826     False         0.526  0.4870   -10.204   \n\n       speechiness  acousticness  instrumentalness  liveness  valence    tempo  \n0           0.1430        0.0322          0.000001    0.3580   0.7150   87.917  \n1           0.0763        0.9240          0.000006    0.1010   0.2670   77.489  \n2           0.0557        0.2100          0.000000    0.1170   0.1200   76.332  \n3           0.0363        0.9050          0.000071    0.1320   0.1430  181.740  \n4           0.0526        0.4690          0.000000    0.0829   0.1670  119.949  \n...            ...           ...               ...       ...      ...      ...  \n89735       0.0422        0.6400          0.928000    0.0863   0.0339  125.995  \n89736       0.0401        0.9940          0.976000    0.1050   0.0350   85.239  \n89737       0.0420        0.8670          0.000000    0.0839   0.7430  132.378  \n89738       0.0297        0.3810          0.000000    0.2700   0.4130  135.960  \n89739       0.0725        0.6810          0.000000    0.0893   0.7080   79.198  \n\n[89740 rows x 12 columns]",
      "text/html": "<div>\n<style scoped>\n    .dataframe tbody tr th:only-of-type {\n        vertical-align: middle;\n    }\n\n    .dataframe tbody tr th {\n        vertical-align: top;\n    }\n\n    .dataframe thead th {\n        text-align: right;\n    }\n</style>\n<table border=\"1\" class=\"dataframe\">\n  <thead>\n    <tr style=\"text-align: right;\">\n      <th></th>\n      <th>popularity</th>\n      <th>duration_ms</th>\n      <th>explicit</th>\n      <th>danceability</th>\n      <th>energy</th>\n      <th>loudness</th>\n      <th>speechiness</th>\n      <th>acousticness</th>\n      <th>instrumentalness</th>\n      <th>liveness</th>\n      <th>valence</th>\n      <th>tempo</th>\n    </tr>\n  </thead>\n  <tbody>\n    <tr>\n      <th>0</th>\n      <td>73</td>\n      <td>230666</td>\n      <td>False</td>\n      <td>0.676</td>\n      <td>0.4610</td>\n      <td>-6.746</td>\n      <td>0.1430</td>\n      <td>0.0322</td>\n      <td>0.000001</td>\n      <td>0.3580</td>\n      <td>0.7150</td>\n      <td>87.917</td>\n    </tr>\n    <tr>\n      <th>1</th>\n      <td>55</td>\n      <td>149610</td>\n      <td>False</td>\n      <td>0.420</td>\n      <td>0.1660</td>\n      <td>-17.235</td>\n      <td>0.0763</td>\n      <td>0.9240</td>\n      <td>0.000006</td>\n      <td>0.1010</td>\n      <td>0.2670</td>\n      <td>77.489</td>\n    </tr>\n    <tr>\n      <th>2</th>\n      <td>57</td>\n      <td>210826</td>\n      <td>False</td>\n      <td>0.438</td>\n      <td>0.3590</td>\n      <td>-9.734</td>\n      <td>0.0557</td>\n      <td>0.2100</td>\n      <td>0.000000</td>\n      <td>0.1170</td>\n      <td>0.1200</td>\n      <td>76.332</td>\n    </tr>\n    <tr>\n      <th>3</th>\n      <td>71</td>\n      <td>201933</td>\n      <td>False</td>\n      <td>0.266</td>\n      <td>0.0596</td>\n      <td>-18.515</td>\n      <td>0.0363</td>\n      <td>0.9050</td>\n      <td>0.000071</td>\n      <td>0.1320</td>\n      <td>0.1430</td>\n      <td>181.740</td>\n    </tr>\n    <tr>\n      <th>4</th>\n      <td>82</td>\n      <td>198853</td>\n      <td>False</td>\n      <td>0.618</td>\n      <td>0.4430</td>\n      <td>-9.681</td>\n      <td>0.0526</td>\n      <td>0.4690</td>\n      <td>0.000000</td>\n      <td>0.0829</td>\n      <td>0.1670</td>\n      <td>119.949</td>\n    </tr>\n    <tr>\n      <th>...</th>\n      <td>...</td>\n      <td>...</td>\n      <td>...</td>\n      <td>...</td>\n      <td>...</td>\n      <td>...</td>\n      <td>...</td>\n      <td>...</td>\n      <td>...</td>\n      <td>...</td>\n      <td>...</td>\n      <td>...</td>\n    </tr>\n    <tr>\n      <th>89735</th>\n      <td>21</td>\n      <td>384999</td>\n      <td>False</td>\n      <td>0.172</td>\n      <td>0.2350</td>\n      <td>-16.393</td>\n      <td>0.0422</td>\n      <td>0.6400</td>\n      <td>0.928000</td>\n      <td>0.0863</td>\n      <td>0.0339</td>\n      <td>125.995</td>\n    </tr>\n    <tr>\n      <th>89736</th>\n      <td>22</td>\n      <td>385000</td>\n      <td>False</td>\n      <td>0.174</td>\n      <td>0.1170</td>\n      <td>-18.318</td>\n      <td>0.0401</td>\n      <td>0.9940</td>\n      <td>0.976000</td>\n      <td>0.1050</td>\n      <td>0.0350</td>\n      <td>85.239</td>\n    </tr>\n    <tr>\n      <th>89737</th>\n      <td>22</td>\n      <td>271466</td>\n      <td>False</td>\n      <td>0.629</td>\n      <td>0.3290</td>\n      <td>-10.895</td>\n      <td>0.0420</td>\n      <td>0.8670</td>\n      <td>0.000000</td>\n      <td>0.0839</td>\n      <td>0.7430</td>\n      <td>132.378</td>\n    </tr>\n    <tr>\n      <th>89738</th>\n      <td>41</td>\n      <td>283893</td>\n      <td>False</td>\n      <td>0.587</td>\n      <td>0.5060</td>\n      <td>-10.889</td>\n      <td>0.0297</td>\n      <td>0.3810</td>\n      <td>0.000000</td>\n      <td>0.2700</td>\n      <td>0.4130</td>\n      <td>135.960</td>\n    </tr>\n    <tr>\n      <th>89739</th>\n      <td>22</td>\n      <td>241826</td>\n      <td>False</td>\n      <td>0.526</td>\n      <td>0.4870</td>\n      <td>-10.204</td>\n      <td>0.0725</td>\n      <td>0.6810</td>\n      <td>0.000000</td>\n      <td>0.0893</td>\n      <td>0.7080</td>\n      <td>79.198</td>\n    </tr>\n  </tbody>\n</table>\n<p>89740 rows × 12 columns</p>\n</div>"
     },
     "execution_count": 189,
     "metadata": {},
     "output_type": "execute_result"
    }
   ],
   "source": [
    "data.drop([\"track_id\", \"Unnamed: 0\", \"artists\", \"album_name\", \"track_name\", \"key\", \"time_signature\", \"mode\", \"track_genre\"], axis=1, inplace=True)\n",
    "\n",
    "data"
   ],
   "metadata": {
    "collapsed": false,
    "ExecuteTime": {
     "end_time": "2023-10-01T19:43:22.501579Z",
     "start_time": "2023-10-01T19:43:22.474254Z"
    }
   },
   "id": "add59a8ef809a3cb"
  },
  {
   "cell_type": "markdown",
   "source": [
    "Here, I chose to drop some features that seemed irrelevant. For the first two, it is because they are randomly generated IDs, which would interfere with the model, for all the names, it is because liking a song by an artist doesn't mean you will like songs by artists with similar names, and same for albums and titles, for key and time signature, it is because most people do not care what key/time signature their music is in, for mode, I am not sure what that feature symbolized, so I chose to remove them. Finally, it seems there was a problem in my data, as the every track had a genre of \"acoustic\"."
   ],
   "metadata": {
    "collapsed": false
   },
   "id": "b61abd06007bf26e"
  },
  {
   "cell_type": "code",
   "execution_count": 190,
   "outputs": [
    {
     "name": "stdout",
     "output_type": "stream",
     "text": [
      "Top Correlated Feature Pairs:\n"
     ]
    },
    {
     "data": {
      "text/plain": "loudness      energy          0.758774\nenergy        loudness        0.758774\n              acousticness    0.732569\nacousticness  energy          0.732569\n              loudness        0.582664\n                                ...   \ntempo         speechiness     0.004033\nexplicit      valence         0.002709\nvalence       explicit        0.002709\nloudness      duration_ms     0.000360\nduration_ms   loudness        0.000360\nLength: 132, dtype: float64"
     },
     "execution_count": 190,
     "metadata": {},
     "output_type": "execute_result"
    }
   ],
   "source": [
    "correlation_matrix = data.corr()\n",
    "\n",
    "correlations = correlation_matrix.abs().unstack().sort_values(ascending=False)\n",
    "\n",
    "# Filter out correlations with themselves (diagonal) and keep only the top correlated pairs\n",
    "top_correlations = correlations[correlations != 1.0]\n",
    "\n",
    "print(\"Top Correlated Feature Pairs:\")\n",
    "top_correlations\n",
    "\n",
    "# all this looks alright, no feature seem to be correlated apart from what can be expected (energy/loudness/acousticness, mainly)"
   ],
   "metadata": {
    "collapsed": false,
    "ExecuteTime": {
     "end_time": "2023-10-01T19:43:22.610391Z",
     "start_time": "2023-10-01T19:43:22.489776Z"
    }
   },
   "id": "69ece80792dfa543"
  },
  {
   "cell_type": "code",
   "execution_count": 191,
   "outputs": [
    {
     "data": {
      "text/plain": "       popularity  duration_ms  explicit  danceability    energy  loudness  \\\n0        1.933925     0.013472 -0.306447      0.644253 -0.675975  0.335727   \n1        1.059312    -0.704186 -0.306447     -0.804604 -1.825602 -1.673087   \n2        1.156491    -0.162188 -0.306447     -0.702731 -1.073473 -0.236524   \n3        1.836746    -0.240925 -0.306447     -1.676182 -2.240247 -1.918228   \n4        2.371232    -0.268195 -0.306447      0.315996 -0.746122 -0.226373   \n...           ...          ...       ...           ...       ...       ...   \n89735   -0.592735     1.379914 -0.306447     -2.208184 -1.556706 -1.511831   \n89736   -0.544146     1.379923 -0.306447     -2.196865 -2.016557 -1.880499   \n89737   -0.544146     0.374710 -0.306447      0.378251 -1.190384 -0.458874   \n89738    0.379057     0.484736 -0.306447      0.140548 -0.500608 -0.457725   \n89739   -0.544146     0.112281 -0.306447     -0.204687 -0.574652 -0.326536   \n\n       speechiness  acousticness  instrumentalness  liveness   valence  \\\n0         0.490458     -0.875166         -0.535482  0.723656  0.934047   \n1        -0.098364      1.760810         -0.535468 -0.595078 -0.770269   \n2        -0.280219     -0.349626         -0.535485 -0.512978 -1.329497   \n3        -0.451480      1.704650         -0.535266 -0.436009 -1.241999   \n4        -0.307585      0.415925         -0.535485 -0.687954 -1.150696   \n...            ...           ...               ...       ...       ...   \n89735    -0.399395      0.921365          2.330062 -0.670508 -1.657046   \n89736    -0.417934      1.967716          2.478280 -0.574553 -1.652861   \n89737    -0.401161      1.592330         -0.535485 -0.682823  1.040567   \n89738    -0.509744      0.155815         -0.535485  0.272105 -0.214844   \n89739    -0.131910      1.042553         -0.535485 -0.655114  0.907417   \n\n          tempo  \n0     -1.133599  \n1     -1.479843  \n2     -1.518259  \n3      1.981635  \n4     -0.070030  \n...         ...  \n89735  0.130717  \n89736 -1.222517  \n89737  0.342654  \n89738  0.461588  \n89739 -1.423098  \n\n[89740 rows x 12 columns]",
      "text/html": "<div>\n<style scoped>\n    .dataframe tbody tr th:only-of-type {\n        vertical-align: middle;\n    }\n\n    .dataframe tbody tr th {\n        vertical-align: top;\n    }\n\n    .dataframe thead th {\n        text-align: right;\n    }\n</style>\n<table border=\"1\" class=\"dataframe\">\n  <thead>\n    <tr style=\"text-align: right;\">\n      <th></th>\n      <th>popularity</th>\n      <th>duration_ms</th>\n      <th>explicit</th>\n      <th>danceability</th>\n      <th>energy</th>\n      <th>loudness</th>\n      <th>speechiness</th>\n      <th>acousticness</th>\n      <th>instrumentalness</th>\n      <th>liveness</th>\n      <th>valence</th>\n      <th>tempo</th>\n    </tr>\n  </thead>\n  <tbody>\n    <tr>\n      <th>0</th>\n      <td>1.933925</td>\n      <td>0.013472</td>\n      <td>-0.306447</td>\n      <td>0.644253</td>\n      <td>-0.675975</td>\n      <td>0.335727</td>\n      <td>0.490458</td>\n      <td>-0.875166</td>\n      <td>-0.535482</td>\n      <td>0.723656</td>\n      <td>0.934047</td>\n      <td>-1.133599</td>\n    </tr>\n    <tr>\n      <th>1</th>\n      <td>1.059312</td>\n      <td>-0.704186</td>\n      <td>-0.306447</td>\n      <td>-0.804604</td>\n      <td>-1.825602</td>\n      <td>-1.673087</td>\n      <td>-0.098364</td>\n      <td>1.760810</td>\n      <td>-0.535468</td>\n      <td>-0.595078</td>\n      <td>-0.770269</td>\n      <td>-1.479843</td>\n    </tr>\n    <tr>\n      <th>2</th>\n      <td>1.156491</td>\n      <td>-0.162188</td>\n      <td>-0.306447</td>\n      <td>-0.702731</td>\n      <td>-1.073473</td>\n      <td>-0.236524</td>\n      <td>-0.280219</td>\n      <td>-0.349626</td>\n      <td>-0.535485</td>\n      <td>-0.512978</td>\n      <td>-1.329497</td>\n      <td>-1.518259</td>\n    </tr>\n    <tr>\n      <th>3</th>\n      <td>1.836746</td>\n      <td>-0.240925</td>\n      <td>-0.306447</td>\n      <td>-1.676182</td>\n      <td>-2.240247</td>\n      <td>-1.918228</td>\n      <td>-0.451480</td>\n      <td>1.704650</td>\n      <td>-0.535266</td>\n      <td>-0.436009</td>\n      <td>-1.241999</td>\n      <td>1.981635</td>\n    </tr>\n    <tr>\n      <th>4</th>\n      <td>2.371232</td>\n      <td>-0.268195</td>\n      <td>-0.306447</td>\n      <td>0.315996</td>\n      <td>-0.746122</td>\n      <td>-0.226373</td>\n      <td>-0.307585</td>\n      <td>0.415925</td>\n      <td>-0.535485</td>\n      <td>-0.687954</td>\n      <td>-1.150696</td>\n      <td>-0.070030</td>\n    </tr>\n    <tr>\n      <th>...</th>\n      <td>...</td>\n      <td>...</td>\n      <td>...</td>\n      <td>...</td>\n      <td>...</td>\n      <td>...</td>\n      <td>...</td>\n      <td>...</td>\n      <td>...</td>\n      <td>...</td>\n      <td>...</td>\n      <td>...</td>\n    </tr>\n    <tr>\n      <th>89735</th>\n      <td>-0.592735</td>\n      <td>1.379914</td>\n      <td>-0.306447</td>\n      <td>-2.208184</td>\n      <td>-1.556706</td>\n      <td>-1.511831</td>\n      <td>-0.399395</td>\n      <td>0.921365</td>\n      <td>2.330062</td>\n      <td>-0.670508</td>\n      <td>-1.657046</td>\n      <td>0.130717</td>\n    </tr>\n    <tr>\n      <th>89736</th>\n      <td>-0.544146</td>\n      <td>1.379923</td>\n      <td>-0.306447</td>\n      <td>-2.196865</td>\n      <td>-2.016557</td>\n      <td>-1.880499</td>\n      <td>-0.417934</td>\n      <td>1.967716</td>\n      <td>2.478280</td>\n      <td>-0.574553</td>\n      <td>-1.652861</td>\n      <td>-1.222517</td>\n    </tr>\n    <tr>\n      <th>89737</th>\n      <td>-0.544146</td>\n      <td>0.374710</td>\n      <td>-0.306447</td>\n      <td>0.378251</td>\n      <td>-1.190384</td>\n      <td>-0.458874</td>\n      <td>-0.401161</td>\n      <td>1.592330</td>\n      <td>-0.535485</td>\n      <td>-0.682823</td>\n      <td>1.040567</td>\n      <td>0.342654</td>\n    </tr>\n    <tr>\n      <th>89738</th>\n      <td>0.379057</td>\n      <td>0.484736</td>\n      <td>-0.306447</td>\n      <td>0.140548</td>\n      <td>-0.500608</td>\n      <td>-0.457725</td>\n      <td>-0.509744</td>\n      <td>0.155815</td>\n      <td>-0.535485</td>\n      <td>0.272105</td>\n      <td>-0.214844</td>\n      <td>0.461588</td>\n    </tr>\n    <tr>\n      <th>89739</th>\n      <td>-0.544146</td>\n      <td>0.112281</td>\n      <td>-0.306447</td>\n      <td>-0.204687</td>\n      <td>-0.574652</td>\n      <td>-0.326536</td>\n      <td>-0.131910</td>\n      <td>1.042553</td>\n      <td>-0.535485</td>\n      <td>-0.655114</td>\n      <td>0.907417</td>\n      <td>-1.423098</td>\n    </tr>\n  </tbody>\n</table>\n<p>89740 rows × 12 columns</p>\n</div>"
     },
     "execution_count": 191,
     "metadata": {},
     "output_type": "execute_result"
    }
   ],
   "source": [
    "scaler = StandardScaler()\n",
    "\n",
    "data[data.columns] = scaler.fit_transform(data[data.columns])\n",
    "\n",
    "data[data.columns]"
   ],
   "metadata": {
    "collapsed": false,
    "ExecuteTime": {
     "end_time": "2023-10-01T19:43:22.646992Z",
     "start_time": "2023-10-01T19:43:22.552775Z"
    }
   },
   "id": "32bbeb0b6f250cee"
  },
  {
   "cell_type": "code",
   "execution_count": 192,
   "outputs": [],
   "source": [
    "df = pd.read_csv(\"dataset.csv\")\n",
    "\n",
    "df.dropna(subset=['artists', 'album_name', 'track_name'], inplace=True)\n",
    "\n",
    "df.reset_index(drop=True, inplace=True)"
   ],
   "metadata": {
    "collapsed": false,
    "ExecuteTime": {
     "end_time": "2023-10-01T19:43:23.074481Z",
     "start_time": "2023-10-01T19:43:22.644331Z"
    }
   },
   "id": "58b091d59c703f97"
  },
  {
   "cell_type": "code",
   "execution_count": 193,
   "outputs": [
    {
     "name": "stdout",
     "output_type": "stream",
     "text": [
      "Recommended Items:\n",
      "       Unnamed: 0                track_id        artists  \\\n",
      "85986       85987  6TSbdwlDyKMiExEpHvMfWp         Carajo   \n",
      "23905       23905  1JybHYAOzP0sWjzplbruqJ  Viva La Panda   \n",
      "85954       85955  1xCQa1dJC3jIXGHaTo7273   GOING STEADY   \n",
      "86004       86005  2uGos1lTJU2Qd6UpPyRJSP      blink-182   \n",
      "\n",
      "                    album_name          track_name  popularity  duration_ms  \\\n",
      "85986  Hoy Como Ayer (En Vivo)         Constrictor          36       280426   \n",
      "23905       California in Rain  California in Rain          46       181016   \n",
      "85954                    さくらの唄          もしも君が泣くならば          34       226400   \n",
      "86004    Обратно в клас - rock          I Miss You           4       227813   \n",
      "\n",
      "       explicit  danceability  energy  ...  loudness  mode  speechiness  \\\n",
      "85986     False         0.628   0.801  ...    -4.424     1       0.0312   \n",
      "23905     False         0.627   0.653  ...    -8.117     0       0.0923   \n",
      "85954      True         0.303   0.961  ...    -3.632     1       0.0779   \n",
      "86004     False         0.652   0.766  ...    -6.481     1       0.0345   \n",
      "\n",
      "       acousticness  instrumentalness  liveness  valence    tempo  \\\n",
      "85986      0.031900          0.000001    0.0895    0.274   99.989   \n",
      "23905      0.285000          0.000000    0.0933    0.225  117.915   \n",
      "85954      0.000032          0.005510    0.0488    0.407  151.664   \n",
      "86004      0.000761          0.000006    0.0739    0.641  110.011   \n",
      "\n",
      "       time_signature  track_genre  \n",
      "85986               4    punk-rock  \n",
      "23905               4   deep-house  \n",
      "85954               4    punk-rock  \n",
      "86004               4         punk  \n",
      "\n",
      "[4 rows x 21 columns]\n"
     ]
    },
    {
     "name": "stderr",
     "output_type": "stream",
     "text": [
      "/Users/ulysseberra/Documents/Code/song_rec_ml/venv/lib/python3.9/site-packages/sklearn/base.py:465: UserWarning: X does not have valid feature names, but NearestNeighbors was fitted with feature names\n",
      "  warnings.warn(\n"
     ]
    }
   ],
   "source": [
    "selected_features = data[data.columns]  # Replace with your chosen features\n",
    "\n",
    "normalized_features = (selected_features - selected_features.mean()) / selected_features.std()\n",
    "\n",
    "k = 5  # Number of neighbors to consider\n",
    "knn_model = NearestNeighbors(n_neighbors=k, metric='euclidean')  # Use Euclidean distance\n",
    "\n",
    "knn_model.fit(normalized_features)\n",
    "\n",
    "# Choose a target item for which you want to make recommendations\n",
    "target_track_name = '21 Guns'\n",
    "target_artist = 'Green Day'\n",
    "target_row = df[(df['track_name'] == target_track_name) & (df['artists'] == target_artist)].index[0]\n",
    "\n",
    "distances, indices = knn_model.kneighbors([normalized_features.iloc[target_row]])\n",
    "\n",
    "recommended_item_indices = indices[0][1:]\n",
    "\n",
    "print(\"Recommended Items:\")\n",
    "print(df.iloc[recommended_item_indices])"
   ],
   "metadata": {
    "collapsed": false,
    "ExecuteTime": {
     "end_time": "2023-10-01T19:43:23.181913Z",
     "start_time": "2023-10-01T19:43:23.081Z"
    }
   },
   "id": "f3769d4bbebac74"
  }
 ],
 "metadata": {
  "kernelspec": {
   "display_name": "Python 3",
   "language": "python",
   "name": "python3"
  },
  "language_info": {
   "codemirror_mode": {
    "name": "ipython",
    "version": 2
   },
   "file_extension": ".py",
   "mimetype": "text/x-python",
   "name": "python",
   "nbconvert_exporter": "python",
   "pygments_lexer": "ipython2",
   "version": "2.7.6"
  }
 },
 "nbformat": 4,
 "nbformat_minor": 5
}
