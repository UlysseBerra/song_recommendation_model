{
 "cells": [
  {
   "cell_type": "markdown",
   "source": [
    "# Music Recommendation System Project\n",
    "\n",
    "In this project, we will build a music recommendation system using machine learning techniques. The goal is to create a model that can recommend music based on similarity with another song the user inputs.\n",
    "\n",
    "We have a large dataset in CSV format containing information about music tracks. This dataset includes features such as artists, album name, danceability, energy, and genre, among others. We will try to find the best way to make accurate recommendations, through exploring the data carefully, choosing the right features to use, and finally trying and comparing the accuracy of different algorithms."
   ],
   "metadata": {
    "collapsed": false
   },
   "id": "f4dae394aa512620"
  },
  {
   "cell_type": "code",
   "execution_count": 81,
   "outputs": [
    {
     "data": {
      "text/plain": "   Unnamed: 0                track_id                 artists  \\\n0           0  5SuOikwiRyPMVoIQDJUgSV             Gen Hoshino   \n1           1  4qPNDBW1i3p13qLCt0Ki3A            Ben Woodward   \n2           2  1iJBSr7s7jYXzM8EGcbK5b  Ingrid Michaelson;ZAYN   \n3           3  6lfxq3CG4xtTiEg7opyCyx            Kina Grannis   \n4           4  5vjLSffimiIP26QG5WcN2K        Chord Overstreet   \n\n                                          album_name  \\\n0                                             Comedy   \n1                                   Ghost (Acoustic)   \n2                                     To Begin Again   \n3  Crazy Rich Asians (Original Motion Picture Sou...   \n4                                            Hold On   \n\n                   track_name  popularity  duration_ms  explicit  \\\n0                      Comedy          73       230666     False   \n1            Ghost - Acoustic          55       149610     False   \n2              To Begin Again          57       210826     False   \n3  Can't Help Falling In Love          71       201933     False   \n4                     Hold On          82       198853     False   \n\n   danceability  energy  ...  loudness  mode  speechiness  acousticness  \\\n0         0.676  0.4610  ...    -6.746     0       0.1430        0.0322   \n1         0.420  0.1660  ...   -17.235     1       0.0763        0.9240   \n2         0.438  0.3590  ...    -9.734     1       0.0557        0.2100   \n3         0.266  0.0596  ...   -18.515     1       0.0363        0.9050   \n4         0.618  0.4430  ...    -9.681     1       0.0526        0.4690   \n\n   instrumentalness  liveness  valence    tempo  time_signature  track_genre  \n0          0.000001    0.3580    0.715   87.917               4     acoustic  \n1          0.000006    0.1010    0.267   77.489               4     acoustic  \n2          0.000000    0.1170    0.120   76.332               4     acoustic  \n3          0.000071    0.1320    0.143  181.740               3     acoustic  \n4          0.000000    0.0829    0.167  119.949               4     acoustic  \n\n[5 rows x 21 columns]",
      "text/html": "<div>\n<style scoped>\n    .dataframe tbody tr th:only-of-type {\n        vertical-align: middle;\n    }\n\n    .dataframe tbody tr th {\n        vertical-align: top;\n    }\n\n    .dataframe thead th {\n        text-align: right;\n    }\n</style>\n<table border=\"1\" class=\"dataframe\">\n  <thead>\n    <tr style=\"text-align: right;\">\n      <th></th>\n      <th>Unnamed: 0</th>\n      <th>track_id</th>\n      <th>artists</th>\n      <th>album_name</th>\n      <th>track_name</th>\n      <th>popularity</th>\n      <th>duration_ms</th>\n      <th>explicit</th>\n      <th>danceability</th>\n      <th>energy</th>\n      <th>...</th>\n      <th>loudness</th>\n      <th>mode</th>\n      <th>speechiness</th>\n      <th>acousticness</th>\n      <th>instrumentalness</th>\n      <th>liveness</th>\n      <th>valence</th>\n      <th>tempo</th>\n      <th>time_signature</th>\n      <th>track_genre</th>\n    </tr>\n  </thead>\n  <tbody>\n    <tr>\n      <th>0</th>\n      <td>0</td>\n      <td>5SuOikwiRyPMVoIQDJUgSV</td>\n      <td>Gen Hoshino</td>\n      <td>Comedy</td>\n      <td>Comedy</td>\n      <td>73</td>\n      <td>230666</td>\n      <td>False</td>\n      <td>0.676</td>\n      <td>0.4610</td>\n      <td>...</td>\n      <td>-6.746</td>\n      <td>0</td>\n      <td>0.1430</td>\n      <td>0.0322</td>\n      <td>0.000001</td>\n      <td>0.3580</td>\n      <td>0.715</td>\n      <td>87.917</td>\n      <td>4</td>\n      <td>acoustic</td>\n    </tr>\n    <tr>\n      <th>1</th>\n      <td>1</td>\n      <td>4qPNDBW1i3p13qLCt0Ki3A</td>\n      <td>Ben Woodward</td>\n      <td>Ghost (Acoustic)</td>\n      <td>Ghost - Acoustic</td>\n      <td>55</td>\n      <td>149610</td>\n      <td>False</td>\n      <td>0.420</td>\n      <td>0.1660</td>\n      <td>...</td>\n      <td>-17.235</td>\n      <td>1</td>\n      <td>0.0763</td>\n      <td>0.9240</td>\n      <td>0.000006</td>\n      <td>0.1010</td>\n      <td>0.267</td>\n      <td>77.489</td>\n      <td>4</td>\n      <td>acoustic</td>\n    </tr>\n    <tr>\n      <th>2</th>\n      <td>2</td>\n      <td>1iJBSr7s7jYXzM8EGcbK5b</td>\n      <td>Ingrid Michaelson;ZAYN</td>\n      <td>To Begin Again</td>\n      <td>To Begin Again</td>\n      <td>57</td>\n      <td>210826</td>\n      <td>False</td>\n      <td>0.438</td>\n      <td>0.3590</td>\n      <td>...</td>\n      <td>-9.734</td>\n      <td>1</td>\n      <td>0.0557</td>\n      <td>0.2100</td>\n      <td>0.000000</td>\n      <td>0.1170</td>\n      <td>0.120</td>\n      <td>76.332</td>\n      <td>4</td>\n      <td>acoustic</td>\n    </tr>\n    <tr>\n      <th>3</th>\n      <td>3</td>\n      <td>6lfxq3CG4xtTiEg7opyCyx</td>\n      <td>Kina Grannis</td>\n      <td>Crazy Rich Asians (Original Motion Picture Sou...</td>\n      <td>Can't Help Falling In Love</td>\n      <td>71</td>\n      <td>201933</td>\n      <td>False</td>\n      <td>0.266</td>\n      <td>0.0596</td>\n      <td>...</td>\n      <td>-18.515</td>\n      <td>1</td>\n      <td>0.0363</td>\n      <td>0.9050</td>\n      <td>0.000071</td>\n      <td>0.1320</td>\n      <td>0.143</td>\n      <td>181.740</td>\n      <td>3</td>\n      <td>acoustic</td>\n    </tr>\n    <tr>\n      <th>4</th>\n      <td>4</td>\n      <td>5vjLSffimiIP26QG5WcN2K</td>\n      <td>Chord Overstreet</td>\n      <td>Hold On</td>\n      <td>Hold On</td>\n      <td>82</td>\n      <td>198853</td>\n      <td>False</td>\n      <td>0.618</td>\n      <td>0.4430</td>\n      <td>...</td>\n      <td>-9.681</td>\n      <td>1</td>\n      <td>0.0526</td>\n      <td>0.4690</td>\n      <td>0.000000</td>\n      <td>0.0829</td>\n      <td>0.167</td>\n      <td>119.949</td>\n      <td>4</td>\n      <td>acoustic</td>\n    </tr>\n  </tbody>\n</table>\n<p>5 rows × 21 columns</p>\n</div>"
     },
     "execution_count": 81,
     "metadata": {},
     "output_type": "execute_result"
    }
   ],
   "source": [
    "# Import necessary libraries\n",
    "import pandas as pd\n",
    "import numpy as np\n",
    "import matplotlib.pyplot as plt\n",
    "import seaborn as sns\n",
    "from sklearn.model_selection import train_test_split\n",
    "from sklearn.preprocessing import StandardScaler\n",
    "from sklearn.metrics import accuracy_score, classification_report\n",
    "from sklearn.ensemble import RandomForestClassifier, GradientBoostingClassifier\n",
    "from sklearn.svm import SVC\n",
    "\n",
    "# Set the style for data visualization\n",
    "sns.set(style=\"whitegrid\")\n",
    "\n",
    "# Load the dataset (replace 'your_dataset.csv' with the actual file path)\n",
    "data = pd.read_csv(\"dataset.csv\")\n",
    "\n",
    "data.head()"
   ],
   "metadata": {
    "collapsed": false,
    "ExecuteTime": {
     "end_time": "2023-10-01T17:37:02.920067Z",
     "start_time": "2023-10-01T17:37:02.541629Z"
    }
   },
   "id": "b721bcbbe8a38a2d"
  },
  {
   "cell_type": "code",
   "execution_count": 82,
   "outputs": [
    {
     "name": "stdout",
     "output_type": "stream",
     "text": [
      "Missing Values:\n"
     ]
    },
    {
     "data": {
      "text/plain": "Unnamed: 0          0\ntrack_id            0\nartists             1\nalbum_name          1\ntrack_name          1\npopularity          0\nduration_ms         0\nexplicit            0\ndanceability        0\nenergy              0\nkey                 0\nloudness            0\nmode                0\nspeechiness         0\nacousticness        0\ninstrumentalness    0\nliveness            0\nvalence             0\ntempo               0\ntime_signature      0\ntrack_genre         0\ndtype: int64"
     },
     "execution_count": 82,
     "metadata": {},
     "output_type": "execute_result"
    }
   ],
   "source": [
    "missing_values = data.isnull().sum()\n",
    "print(\"Missing Values:\")\n",
    "missing_values"
   ],
   "metadata": {
    "collapsed": false,
    "ExecuteTime": {
     "end_time": "2023-10-01T17:37:05.430057Z",
     "start_time": "2023-10-01T17:37:05.360180Z"
    }
   },
   "id": "c26587fed2665d35"
  },
  {
   "cell_type": "code",
   "execution_count": 83,
   "outputs": [
    {
     "name": "stdout",
     "output_type": "stream",
     "text": [
      "Rows with Missing Values:\n"
     ]
    },
    {
     "data": {
      "text/plain": "       Unnamed: 0                track_id artists album_name track_name  \\\n65900       65900  1kR4gIb7nGxHPI3D2ifs59     NaN        NaN        NaN   \n\n       popularity  duration_ms  explicit  danceability  energy  ...  loudness  \\\n65900           0            0     False         0.501   0.583  ...     -9.46   \n\n       mode  speechiness  acousticness  instrumentalness  liveness  valence  \\\n65900     0       0.0605          0.69           0.00396    0.0747    0.734   \n\n         tempo  time_signature  track_genre  \n65900  138.391               4        k-pop  \n\n[1 rows x 21 columns]",
      "text/html": "<div>\n<style scoped>\n    .dataframe tbody tr th:only-of-type {\n        vertical-align: middle;\n    }\n\n    .dataframe tbody tr th {\n        vertical-align: top;\n    }\n\n    .dataframe thead th {\n        text-align: right;\n    }\n</style>\n<table border=\"1\" class=\"dataframe\">\n  <thead>\n    <tr style=\"text-align: right;\">\n      <th></th>\n      <th>Unnamed: 0</th>\n      <th>track_id</th>\n      <th>artists</th>\n      <th>album_name</th>\n      <th>track_name</th>\n      <th>popularity</th>\n      <th>duration_ms</th>\n      <th>explicit</th>\n      <th>danceability</th>\n      <th>energy</th>\n      <th>...</th>\n      <th>loudness</th>\n      <th>mode</th>\n      <th>speechiness</th>\n      <th>acousticness</th>\n      <th>instrumentalness</th>\n      <th>liveness</th>\n      <th>valence</th>\n      <th>tempo</th>\n      <th>time_signature</th>\n      <th>track_genre</th>\n    </tr>\n  </thead>\n  <tbody>\n    <tr>\n      <th>65900</th>\n      <td>65900</td>\n      <td>1kR4gIb7nGxHPI3D2ifs59</td>\n      <td>NaN</td>\n      <td>NaN</td>\n      <td>NaN</td>\n      <td>0</td>\n      <td>0</td>\n      <td>False</td>\n      <td>0.501</td>\n      <td>0.583</td>\n      <td>...</td>\n      <td>-9.46</td>\n      <td>0</td>\n      <td>0.0605</td>\n      <td>0.69</td>\n      <td>0.00396</td>\n      <td>0.0747</td>\n      <td>0.734</td>\n      <td>138.391</td>\n      <td>4</td>\n      <td>k-pop</td>\n    </tr>\n  </tbody>\n</table>\n<p>1 rows × 21 columns</p>\n</div>"
     },
     "execution_count": 83,
     "metadata": {},
     "output_type": "execute_result"
    }
   ],
   "source": [
    "missing_rows = data[data['artists'].isnull() | data['album_name'].isnull() | data['track_name'].isnull()]\n",
    "\n",
    "print(\"Rows with Missing Values:\")\n",
    "missing_rows"
   ],
   "metadata": {
    "collapsed": false,
    "ExecuteTime": {
     "end_time": "2023-10-01T17:37:07.864319Z",
     "start_time": "2023-10-01T17:37:07.823579Z"
    }
   },
   "id": "45a1a20b355ef4e1"
  },
  {
   "cell_type": "code",
   "execution_count": 84,
   "outputs": [
    {
     "name": "stdout",
     "output_type": "stream",
     "text": [
      "Missing Values:\n"
     ]
    },
    {
     "data": {
      "text/plain": "Unnamed: 0          0\ntrack_id            0\nartists             0\nalbum_name          0\ntrack_name          0\npopularity          0\nduration_ms         0\nexplicit            0\ndanceability        0\nenergy              0\nkey                 0\nloudness            0\nmode                0\nspeechiness         0\nacousticness        0\ninstrumentalness    0\nliveness            0\nvalence             0\ntempo               0\ntime_signature      0\ntrack_genre         0\ndtype: int64"
     },
     "execution_count": 84,
     "metadata": {},
     "output_type": "execute_result"
    }
   ],
   "source": [
    "data.dropna(subset=['artists', 'album_name', 'track_name'], inplace=True)\n",
    "\n",
    "data.reset_index(drop=True, inplace=True)\n",
    "\n",
    "missing_values = data.isnull().sum()\n",
    "\n",
    "print(\"Missing Values:\")\n",
    "missing_values"
   ],
   "metadata": {
    "collapsed": false,
    "ExecuteTime": {
     "end_time": "2023-10-01T17:37:10.174221Z",
     "start_time": "2023-10-01T17:37:10.131763Z"
    }
   },
   "id": "be99d72e7db366ce"
  },
  {
   "cell_type": "code",
   "execution_count": 85,
   "outputs": [
    {
     "data": {
      "text/plain": "          Unnamed: 0     popularity   duration_ms   danceability  \\\ncount  113999.000000  113999.000000  1.139990e+05  113999.000000   \nmean    56999.421925      33.238827  2.280312e+05       0.566801   \nstd     32909.243463      22.304959  1.072961e+05       0.173543   \nmin         0.000000       0.000000  8.586000e+03       0.000000   \n25%     28499.500000      17.000000  1.740660e+05       0.456000   \n50%     56999.000000      35.000000  2.129060e+05       0.580000   \n75%     85499.500000      50.000000  2.615060e+05       0.695000   \nmax    113999.000000     100.000000  5.237295e+06       0.985000   \n\n              energy            key       loudness           mode  \\\ncount  113999.000000  113999.000000  113999.000000  113999.000000   \nmean        0.641383       5.309126      -8.258950       0.637558   \nstd         0.251530       3.559999       5.029357       0.480708   \nmin         0.000000       0.000000     -49.531000       0.000000   \n25%         0.472000       2.000000     -10.013000       0.000000   \n50%         0.685000       5.000000      -7.004000       1.000000   \n75%         0.854000       8.000000      -5.003000       1.000000   \nmax         1.000000      11.000000       4.532000       1.000000   \n\n         speechiness   acousticness  instrumentalness       liveness  \\\ncount  113999.000000  113999.000000     113999.000000  113999.000000   \nmean        0.084652       0.314907          0.156051       0.213554   \nstd         0.105733       0.332522          0.309556       0.190378   \nmin         0.000000       0.000000          0.000000       0.000000   \n25%         0.035900       0.016900          0.000000       0.098000   \n50%         0.048900       0.169000          0.000042       0.132000   \n75%         0.084500       0.597500          0.049000       0.273000   \nmax         0.965000       0.996000          1.000000       1.000000   \n\n             valence          tempo  time_signature  \ncount  113999.000000  113999.000000   113999.000000  \nmean        0.474066     122.147695        3.904034  \nstd         0.259261      29.978290        0.432623  \nmin         0.000000       0.000000        0.000000  \n25%         0.260000      99.218500        4.000000  \n50%         0.464000     122.017000        4.000000  \n75%         0.683000     140.071000        4.000000  \nmax         0.995000     243.372000        5.000000  ",
      "text/html": "<div>\n<style scoped>\n    .dataframe tbody tr th:only-of-type {\n        vertical-align: middle;\n    }\n\n    .dataframe tbody tr th {\n        vertical-align: top;\n    }\n\n    .dataframe thead th {\n        text-align: right;\n    }\n</style>\n<table border=\"1\" class=\"dataframe\">\n  <thead>\n    <tr style=\"text-align: right;\">\n      <th></th>\n      <th>Unnamed: 0</th>\n      <th>popularity</th>\n      <th>duration_ms</th>\n      <th>danceability</th>\n      <th>energy</th>\n      <th>key</th>\n      <th>loudness</th>\n      <th>mode</th>\n      <th>speechiness</th>\n      <th>acousticness</th>\n      <th>instrumentalness</th>\n      <th>liveness</th>\n      <th>valence</th>\n      <th>tempo</th>\n      <th>time_signature</th>\n    </tr>\n  </thead>\n  <tbody>\n    <tr>\n      <th>count</th>\n      <td>113999.000000</td>\n      <td>113999.000000</td>\n      <td>1.139990e+05</td>\n      <td>113999.000000</td>\n      <td>113999.000000</td>\n      <td>113999.000000</td>\n      <td>113999.000000</td>\n      <td>113999.000000</td>\n      <td>113999.000000</td>\n      <td>113999.000000</td>\n      <td>113999.000000</td>\n      <td>113999.000000</td>\n      <td>113999.000000</td>\n      <td>113999.000000</td>\n      <td>113999.000000</td>\n    </tr>\n    <tr>\n      <th>mean</th>\n      <td>56999.421925</td>\n      <td>33.238827</td>\n      <td>2.280312e+05</td>\n      <td>0.566801</td>\n      <td>0.641383</td>\n      <td>5.309126</td>\n      <td>-8.258950</td>\n      <td>0.637558</td>\n      <td>0.084652</td>\n      <td>0.314907</td>\n      <td>0.156051</td>\n      <td>0.213554</td>\n      <td>0.474066</td>\n      <td>122.147695</td>\n      <td>3.904034</td>\n    </tr>\n    <tr>\n      <th>std</th>\n      <td>32909.243463</td>\n      <td>22.304959</td>\n      <td>1.072961e+05</td>\n      <td>0.173543</td>\n      <td>0.251530</td>\n      <td>3.559999</td>\n      <td>5.029357</td>\n      <td>0.480708</td>\n      <td>0.105733</td>\n      <td>0.332522</td>\n      <td>0.309556</td>\n      <td>0.190378</td>\n      <td>0.259261</td>\n      <td>29.978290</td>\n      <td>0.432623</td>\n    </tr>\n    <tr>\n      <th>min</th>\n      <td>0.000000</td>\n      <td>0.000000</td>\n      <td>8.586000e+03</td>\n      <td>0.000000</td>\n      <td>0.000000</td>\n      <td>0.000000</td>\n      <td>-49.531000</td>\n      <td>0.000000</td>\n      <td>0.000000</td>\n      <td>0.000000</td>\n      <td>0.000000</td>\n      <td>0.000000</td>\n      <td>0.000000</td>\n      <td>0.000000</td>\n      <td>0.000000</td>\n    </tr>\n    <tr>\n      <th>25%</th>\n      <td>28499.500000</td>\n      <td>17.000000</td>\n      <td>1.740660e+05</td>\n      <td>0.456000</td>\n      <td>0.472000</td>\n      <td>2.000000</td>\n      <td>-10.013000</td>\n      <td>0.000000</td>\n      <td>0.035900</td>\n      <td>0.016900</td>\n      <td>0.000000</td>\n      <td>0.098000</td>\n      <td>0.260000</td>\n      <td>99.218500</td>\n      <td>4.000000</td>\n    </tr>\n    <tr>\n      <th>50%</th>\n      <td>56999.000000</td>\n      <td>35.000000</td>\n      <td>2.129060e+05</td>\n      <td>0.580000</td>\n      <td>0.685000</td>\n      <td>5.000000</td>\n      <td>-7.004000</td>\n      <td>1.000000</td>\n      <td>0.048900</td>\n      <td>0.169000</td>\n      <td>0.000042</td>\n      <td>0.132000</td>\n      <td>0.464000</td>\n      <td>122.017000</td>\n      <td>4.000000</td>\n    </tr>\n    <tr>\n      <th>75%</th>\n      <td>85499.500000</td>\n      <td>50.000000</td>\n      <td>2.615060e+05</td>\n      <td>0.695000</td>\n      <td>0.854000</td>\n      <td>8.000000</td>\n      <td>-5.003000</td>\n      <td>1.000000</td>\n      <td>0.084500</td>\n      <td>0.597500</td>\n      <td>0.049000</td>\n      <td>0.273000</td>\n      <td>0.683000</td>\n      <td>140.071000</td>\n      <td>4.000000</td>\n    </tr>\n    <tr>\n      <th>max</th>\n      <td>113999.000000</td>\n      <td>100.000000</td>\n      <td>5.237295e+06</td>\n      <td>0.985000</td>\n      <td>1.000000</td>\n      <td>11.000000</td>\n      <td>4.532000</td>\n      <td>1.000000</td>\n      <td>0.965000</td>\n      <td>0.996000</td>\n      <td>1.000000</td>\n      <td>1.000000</td>\n      <td>0.995000</td>\n      <td>243.372000</td>\n      <td>5.000000</td>\n    </tr>\n  </tbody>\n</table>\n</div>"
     },
     "execution_count": 85,
     "metadata": {},
     "output_type": "execute_result"
    }
   ],
   "source": [
    "data.describe()"
   ],
   "metadata": {
    "collapsed": false,
    "ExecuteTime": {
     "end_time": "2023-10-01T17:37:12.006588Z",
     "start_time": "2023-10-01T17:37:11.925141Z"
    }
   },
   "id": "98d6b416ac5b9ef"
  },
  {
   "cell_type": "code",
   "execution_count": 87,
   "outputs": [
    {
     "data": {
      "text/plain": "        popularity  duration_ms  explicit  danceability  energy  loudness  \\\n0               73       230666     False         0.676  0.4610    -6.746   \n1               55       149610     False         0.420  0.1660   -17.235   \n2               57       210826     False         0.438  0.3590    -9.734   \n3               71       201933     False         0.266  0.0596   -18.515   \n4               82       198853     False         0.618  0.4430    -9.681   \n...            ...          ...       ...           ...     ...       ...   \n113994          21       384999     False         0.172  0.2350   -16.393   \n113995          22       385000     False         0.174  0.1170   -18.318   \n113996          22       271466     False         0.629  0.3290   -10.895   \n113997          41       283893     False         0.587  0.5060   -10.889   \n113998          22       241826     False         0.526  0.4870   -10.204   \n\n        speechiness  acousticness  instrumentalness  liveness  valence  \\\n0            0.1430        0.0322          0.000001    0.3580   0.7150   \n1            0.0763        0.9240          0.000006    0.1010   0.2670   \n2            0.0557        0.2100          0.000000    0.1170   0.1200   \n3            0.0363        0.9050          0.000071    0.1320   0.1430   \n4            0.0526        0.4690          0.000000    0.0829   0.1670   \n...             ...           ...               ...       ...      ...   \n113994       0.0422        0.6400          0.928000    0.0863   0.0339   \n113995       0.0401        0.9940          0.976000    0.1050   0.0350   \n113996       0.0420        0.8670          0.000000    0.0839   0.7430   \n113997       0.0297        0.3810          0.000000    0.2700   0.4130   \n113998       0.0725        0.6810          0.000000    0.0893   0.7080   \n\n          tempo  \n0        87.917  \n1        77.489  \n2        76.332  \n3       181.740  \n4       119.949  \n...         ...  \n113994  125.995  \n113995   85.239  \n113996  132.378  \n113997  135.960  \n113998   79.198  \n\n[113999 rows x 12 columns]",
      "text/html": "<div>\n<style scoped>\n    .dataframe tbody tr th:only-of-type {\n        vertical-align: middle;\n    }\n\n    .dataframe tbody tr th {\n        vertical-align: top;\n    }\n\n    .dataframe thead th {\n        text-align: right;\n    }\n</style>\n<table border=\"1\" class=\"dataframe\">\n  <thead>\n    <tr style=\"text-align: right;\">\n      <th></th>\n      <th>popularity</th>\n      <th>duration_ms</th>\n      <th>explicit</th>\n      <th>danceability</th>\n      <th>energy</th>\n      <th>loudness</th>\n      <th>speechiness</th>\n      <th>acousticness</th>\n      <th>instrumentalness</th>\n      <th>liveness</th>\n      <th>valence</th>\n      <th>tempo</th>\n    </tr>\n  </thead>\n  <tbody>\n    <tr>\n      <th>0</th>\n      <td>73</td>\n      <td>230666</td>\n      <td>False</td>\n      <td>0.676</td>\n      <td>0.4610</td>\n      <td>-6.746</td>\n      <td>0.1430</td>\n      <td>0.0322</td>\n      <td>0.000001</td>\n      <td>0.3580</td>\n      <td>0.7150</td>\n      <td>87.917</td>\n    </tr>\n    <tr>\n      <th>1</th>\n      <td>55</td>\n      <td>149610</td>\n      <td>False</td>\n      <td>0.420</td>\n      <td>0.1660</td>\n      <td>-17.235</td>\n      <td>0.0763</td>\n      <td>0.9240</td>\n      <td>0.000006</td>\n      <td>0.1010</td>\n      <td>0.2670</td>\n      <td>77.489</td>\n    </tr>\n    <tr>\n      <th>2</th>\n      <td>57</td>\n      <td>210826</td>\n      <td>False</td>\n      <td>0.438</td>\n      <td>0.3590</td>\n      <td>-9.734</td>\n      <td>0.0557</td>\n      <td>0.2100</td>\n      <td>0.000000</td>\n      <td>0.1170</td>\n      <td>0.1200</td>\n      <td>76.332</td>\n    </tr>\n    <tr>\n      <th>3</th>\n      <td>71</td>\n      <td>201933</td>\n      <td>False</td>\n      <td>0.266</td>\n      <td>0.0596</td>\n      <td>-18.515</td>\n      <td>0.0363</td>\n      <td>0.9050</td>\n      <td>0.000071</td>\n      <td>0.1320</td>\n      <td>0.1430</td>\n      <td>181.740</td>\n    </tr>\n    <tr>\n      <th>4</th>\n      <td>82</td>\n      <td>198853</td>\n      <td>False</td>\n      <td>0.618</td>\n      <td>0.4430</td>\n      <td>-9.681</td>\n      <td>0.0526</td>\n      <td>0.4690</td>\n      <td>0.000000</td>\n      <td>0.0829</td>\n      <td>0.1670</td>\n      <td>119.949</td>\n    </tr>\n    <tr>\n      <th>...</th>\n      <td>...</td>\n      <td>...</td>\n      <td>...</td>\n      <td>...</td>\n      <td>...</td>\n      <td>...</td>\n      <td>...</td>\n      <td>...</td>\n      <td>...</td>\n      <td>...</td>\n      <td>...</td>\n      <td>...</td>\n    </tr>\n    <tr>\n      <th>113994</th>\n      <td>21</td>\n      <td>384999</td>\n      <td>False</td>\n      <td>0.172</td>\n      <td>0.2350</td>\n      <td>-16.393</td>\n      <td>0.0422</td>\n      <td>0.6400</td>\n      <td>0.928000</td>\n      <td>0.0863</td>\n      <td>0.0339</td>\n      <td>125.995</td>\n    </tr>\n    <tr>\n      <th>113995</th>\n      <td>22</td>\n      <td>385000</td>\n      <td>False</td>\n      <td>0.174</td>\n      <td>0.1170</td>\n      <td>-18.318</td>\n      <td>0.0401</td>\n      <td>0.9940</td>\n      <td>0.976000</td>\n      <td>0.1050</td>\n      <td>0.0350</td>\n      <td>85.239</td>\n    </tr>\n    <tr>\n      <th>113996</th>\n      <td>22</td>\n      <td>271466</td>\n      <td>False</td>\n      <td>0.629</td>\n      <td>0.3290</td>\n      <td>-10.895</td>\n      <td>0.0420</td>\n      <td>0.8670</td>\n      <td>0.000000</td>\n      <td>0.0839</td>\n      <td>0.7430</td>\n      <td>132.378</td>\n    </tr>\n    <tr>\n      <th>113997</th>\n      <td>41</td>\n      <td>283893</td>\n      <td>False</td>\n      <td>0.587</td>\n      <td>0.5060</td>\n      <td>-10.889</td>\n      <td>0.0297</td>\n      <td>0.3810</td>\n      <td>0.000000</td>\n      <td>0.2700</td>\n      <td>0.4130</td>\n      <td>135.960</td>\n    </tr>\n    <tr>\n      <th>113998</th>\n      <td>22</td>\n      <td>241826</td>\n      <td>False</td>\n      <td>0.526</td>\n      <td>0.4870</td>\n      <td>-10.204</td>\n      <td>0.0725</td>\n      <td>0.6810</td>\n      <td>0.000000</td>\n      <td>0.0893</td>\n      <td>0.7080</td>\n      <td>79.198</td>\n    </tr>\n  </tbody>\n</table>\n<p>113999 rows × 12 columns</p>\n</div>"
     },
     "execution_count": 87,
     "metadata": {},
     "output_type": "execute_result"
    }
   ],
   "source": [
    "data.drop([\"track_id\", \"Unnamed: 0\", \"artists\", \"album_name\", \"track_name\", \"key\", \"time_signature\", \"mode\", \"track_genre\"], axis=1, inplace=True)\n",
    "\n",
    "data"
   ],
   "metadata": {
    "collapsed": false,
    "ExecuteTime": {
     "end_time": "2023-10-01T17:37:20.306785Z",
     "start_time": "2023-10-01T17:37:20.257467Z"
    }
   },
   "id": "add59a8ef809a3cb"
  },
  {
   "cell_type": "markdown",
   "source": [
    "Here, I chose to drop some features that seemed irrelevant. For the first two, it is because they are randomly generated IDs, which would interfere with the model, for all the names, it is because liking a song by an artist doesn't mean you will like songs by artists with similar names, and same for albums and titles, for key and time signature, it is because most people do not care what key/time signature their music is in, for mode, I am not sure what that feature symbolized, so I chose to remove them. Finally, it seems there was a problem in my data, as the every track had a genre of \"acoustic\"."
   ],
   "metadata": {
    "collapsed": false
   },
   "id": "b61abd06007bf26e"
  },
  {
   "cell_type": "code",
   "execution_count": 88,
   "outputs": [
    {
     "name": "stdout",
     "output_type": "stream",
     "text": [
      "Top Correlated Feature Pairs:\n"
     ]
    },
    {
     "data": {
      "text/plain": "loudness      energy          0.761690\nenergy        loudness        0.761690\nacousticness  energy          0.733908\nenergy        acousticness    0.733908\nloudness      acousticness    0.589804\n                                ...   \nacousticness  speechiness     0.002184\npopularity    energy          0.001053\nenergy        popularity      0.001053\ntempo         liveness        0.000603\nliveness      tempo           0.000603\nLength: 132, dtype: float64"
     },
     "execution_count": 88,
     "metadata": {},
     "output_type": "execute_result"
    }
   ],
   "source": [
    "correlation_matrix = data.corr()\n",
    "\n",
    "correlations = correlation_matrix.abs().unstack().sort_values(ascending=False)\n",
    "\n",
    "# Filter out correlations with themselves (diagonal) and keep only the top correlated pairs\n",
    "top_correlations = correlations[correlations != 1.0]\n",
    "\n",
    "print(\"Top Correlated Feature Pairs:\")\n",
    "top_correlations\n",
    "\n",
    "# all this looks alright, no feature seem to be correlated apart from what can be expected (energy/loudness/acousticness, mainly)"
   ],
   "metadata": {
    "collapsed": false,
    "ExecuteTime": {
     "end_time": "2023-10-01T17:37:26.425120Z",
     "start_time": "2023-10-01T17:37:26.349478Z"
    }
   },
   "id": "69ece80792dfa543"
  },
  {
   "cell_type": "code",
   "execution_count": 89,
   "outputs": [
    {
     "data": {
      "text/plain": "        popularity  duration_ms  explicit  danceability    energy  loudness  \\\n0         1.782624     0.024557 -0.305769      0.629239 -0.717147  0.300825   \n1         0.975625    -0.730889 -0.305769     -0.845908 -1.889974 -1.784739   \n2         1.065291    -0.160353 -0.305769     -0.742187 -1.122667 -0.293289   \n3         1.692957    -0.243236 -0.305769     -1.733301 -2.312987 -2.039246   \n4         2.186123    -0.271942 -0.305769      0.295026 -0.788709 -0.282751   \n...            ...          ...       ...           ...       ...       ...   \n113994   -0.548707     1.462948 -0.305769     -2.274956 -1.615652 -1.617321   \n113995   -0.503873     1.462957 -0.305769     -2.263432 -2.084782 -2.000075   \n113996   -0.503873     0.404815 -0.305769      0.358411 -1.241937 -0.524135   \n113997    0.347959     0.520635 -0.305769      0.116395 -0.538241 -0.522942   \n113998   -0.503873     0.128569 -0.305769     -0.235105 -0.613779 -0.386741   \n\n        speechiness  acousticness  instrumentalness  liveness   valence  \\\n0          0.551843     -0.850193         -0.504111  0.758735  0.929315   \n1         -0.078995      1.831744         -0.504097 -0.591216 -0.798681   \n2         -0.273827     -0.315489         -0.504115 -0.507172 -1.365679   \n3         -0.457309      1.774605         -0.503886 -0.428381 -1.276965   \n4         -0.303146      0.463409         -0.504115 -0.686290 -1.184394   \n...             ...           ...               ...       ...       ...   \n113994    -0.401507      0.977663          2.493742 -0.668431 -1.697779   \n113995    -0.421369      2.042258          2.648803 -0.570205 -1.693536   \n113996    -0.403399      1.660327         -0.504115 -0.681038  1.037314   \n113997    -0.519731      0.198764         -0.504115  0.296495 -0.235539   \n113998    -0.114935      1.100963         -0.504115 -0.652673  0.902315   \n\n           tempo  \n0      -1.141854  \n1      -1.489708  \n2      -1.528303  \n3       1.987857  \n4      -0.073343  \n...          ...  \n113994  0.128337  \n113995 -1.231186  \n113996  0.341259  \n113997  0.460746  \n113998 -1.432700  \n\n[113999 rows x 12 columns]",
      "text/html": "<div>\n<style scoped>\n    .dataframe tbody tr th:only-of-type {\n        vertical-align: middle;\n    }\n\n    .dataframe tbody tr th {\n        vertical-align: top;\n    }\n\n    .dataframe thead th {\n        text-align: right;\n    }\n</style>\n<table border=\"1\" class=\"dataframe\">\n  <thead>\n    <tr style=\"text-align: right;\">\n      <th></th>\n      <th>popularity</th>\n      <th>duration_ms</th>\n      <th>explicit</th>\n      <th>danceability</th>\n      <th>energy</th>\n      <th>loudness</th>\n      <th>speechiness</th>\n      <th>acousticness</th>\n      <th>instrumentalness</th>\n      <th>liveness</th>\n      <th>valence</th>\n      <th>tempo</th>\n    </tr>\n  </thead>\n  <tbody>\n    <tr>\n      <th>0</th>\n      <td>1.782624</td>\n      <td>0.024557</td>\n      <td>-0.305769</td>\n      <td>0.629239</td>\n      <td>-0.717147</td>\n      <td>0.300825</td>\n      <td>0.551843</td>\n      <td>-0.850193</td>\n      <td>-0.504111</td>\n      <td>0.758735</td>\n      <td>0.929315</td>\n      <td>-1.141854</td>\n    </tr>\n    <tr>\n      <th>1</th>\n      <td>0.975625</td>\n      <td>-0.730889</td>\n      <td>-0.305769</td>\n      <td>-0.845908</td>\n      <td>-1.889974</td>\n      <td>-1.784739</td>\n      <td>-0.078995</td>\n      <td>1.831744</td>\n      <td>-0.504097</td>\n      <td>-0.591216</td>\n      <td>-0.798681</td>\n      <td>-1.489708</td>\n    </tr>\n    <tr>\n      <th>2</th>\n      <td>1.065291</td>\n      <td>-0.160353</td>\n      <td>-0.305769</td>\n      <td>-0.742187</td>\n      <td>-1.122667</td>\n      <td>-0.293289</td>\n      <td>-0.273827</td>\n      <td>-0.315489</td>\n      <td>-0.504115</td>\n      <td>-0.507172</td>\n      <td>-1.365679</td>\n      <td>-1.528303</td>\n    </tr>\n    <tr>\n      <th>3</th>\n      <td>1.692957</td>\n      <td>-0.243236</td>\n      <td>-0.305769</td>\n      <td>-1.733301</td>\n      <td>-2.312987</td>\n      <td>-2.039246</td>\n      <td>-0.457309</td>\n      <td>1.774605</td>\n      <td>-0.503886</td>\n      <td>-0.428381</td>\n      <td>-1.276965</td>\n      <td>1.987857</td>\n    </tr>\n    <tr>\n      <th>4</th>\n      <td>2.186123</td>\n      <td>-0.271942</td>\n      <td>-0.305769</td>\n      <td>0.295026</td>\n      <td>-0.788709</td>\n      <td>-0.282751</td>\n      <td>-0.303146</td>\n      <td>0.463409</td>\n      <td>-0.504115</td>\n      <td>-0.686290</td>\n      <td>-1.184394</td>\n      <td>-0.073343</td>\n    </tr>\n    <tr>\n      <th>...</th>\n      <td>...</td>\n      <td>...</td>\n      <td>...</td>\n      <td>...</td>\n      <td>...</td>\n      <td>...</td>\n      <td>...</td>\n      <td>...</td>\n      <td>...</td>\n      <td>...</td>\n      <td>...</td>\n      <td>...</td>\n    </tr>\n    <tr>\n      <th>113994</th>\n      <td>-0.548707</td>\n      <td>1.462948</td>\n      <td>-0.305769</td>\n      <td>-2.274956</td>\n      <td>-1.615652</td>\n      <td>-1.617321</td>\n      <td>-0.401507</td>\n      <td>0.977663</td>\n      <td>2.493742</td>\n      <td>-0.668431</td>\n      <td>-1.697779</td>\n      <td>0.128337</td>\n    </tr>\n    <tr>\n      <th>113995</th>\n      <td>-0.503873</td>\n      <td>1.462957</td>\n      <td>-0.305769</td>\n      <td>-2.263432</td>\n      <td>-2.084782</td>\n      <td>-2.000075</td>\n      <td>-0.421369</td>\n      <td>2.042258</td>\n      <td>2.648803</td>\n      <td>-0.570205</td>\n      <td>-1.693536</td>\n      <td>-1.231186</td>\n    </tr>\n    <tr>\n      <th>113996</th>\n      <td>-0.503873</td>\n      <td>0.404815</td>\n      <td>-0.305769</td>\n      <td>0.358411</td>\n      <td>-1.241937</td>\n      <td>-0.524135</td>\n      <td>-0.403399</td>\n      <td>1.660327</td>\n      <td>-0.504115</td>\n      <td>-0.681038</td>\n      <td>1.037314</td>\n      <td>0.341259</td>\n    </tr>\n    <tr>\n      <th>113997</th>\n      <td>0.347959</td>\n      <td>0.520635</td>\n      <td>-0.305769</td>\n      <td>0.116395</td>\n      <td>-0.538241</td>\n      <td>-0.522942</td>\n      <td>-0.519731</td>\n      <td>0.198764</td>\n      <td>-0.504115</td>\n      <td>0.296495</td>\n      <td>-0.235539</td>\n      <td>0.460746</td>\n    </tr>\n    <tr>\n      <th>113998</th>\n      <td>-0.503873</td>\n      <td>0.128569</td>\n      <td>-0.305769</td>\n      <td>-0.235105</td>\n      <td>-0.613779</td>\n      <td>-0.386741</td>\n      <td>-0.114935</td>\n      <td>1.100963</td>\n      <td>-0.504115</td>\n      <td>-0.652673</td>\n      <td>0.902315</td>\n      <td>-1.432700</td>\n    </tr>\n  </tbody>\n</table>\n<p>113999 rows × 12 columns</p>\n</div>"
     },
     "execution_count": 89,
     "metadata": {},
     "output_type": "execute_result"
    }
   ],
   "source": [
    "scaler = StandardScaler()\n",
    "\n",
    "data[data.columns] = scaler.fit_transform(data[data.columns])\n",
    "\n",
    "data[data.columns]"
   ],
   "metadata": {
    "collapsed": false,
    "ExecuteTime": {
     "end_time": "2023-10-01T17:37:31.460911Z",
     "start_time": "2023-10-01T17:37:31.359722Z"
    }
   },
   "id": "32bbeb0b6f250cee"
  },
  {
   "cell_type": "code",
   "execution_count": null,
   "outputs": [],
   "source": [],
   "metadata": {
    "collapsed": false,
    "ExecuteTime": {
     "start_time": "2023-10-01T17:36:57.076717Z"
    }
   },
   "id": "f77d9ab9f87904c8"
  }
 ],
 "metadata": {
  "kernelspec": {
   "display_name": "Python 3",
   "language": "python",
   "name": "python3"
  },
  "language_info": {
   "codemirror_mode": {
    "name": "ipython",
    "version": 2
   },
   "file_extension": ".py",
   "mimetype": "text/x-python",
   "name": "python",
   "nbconvert_exporter": "python",
   "pygments_lexer": "ipython2",
   "version": "2.7.6"
  }
 },
 "nbformat": 4,
 "nbformat_minor": 5
}
